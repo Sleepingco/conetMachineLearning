{
 "cells": [
  {
   "cell_type": "code",
   "execution_count": 1,
   "id": "53ffa592",
   "metadata": {
    "_cell_guid": "b1076dfc-b9ad-4769-8c92-a6c4dae69d19",
    "_uuid": "8f2839f25d086af736a60e9eeb907d3b93b6e0e5",
    "execution": {
     "iopub.execute_input": "2025-05-20T02:01:15.013018Z",
     "iopub.status.busy": "2025-05-20T02:01:15.012657Z",
     "iopub.status.idle": "2025-05-20T02:01:16.820518Z",
     "shell.execute_reply": "2025-05-20T02:01:16.819456Z"
    },
    "papermill": {
     "duration": 1.813982,
     "end_time": "2025-05-20T02:01:16.822054",
     "exception": false,
     "start_time": "2025-05-20T02:01:15.008072",
     "status": "completed"
    },
    "tags": []
   },
   "outputs": [
    {
     "name": "stdout",
     "output_type": "stream",
     "text": [
      "/kaggle/input/titanic/train.csv\n",
      "/kaggle/input/titanic/test.csv\n",
      "/kaggle/input/titanic/gender_submission.csv\n"
     ]
    }
   ],
   "source": [
    "# This Python 3 environment comes with many helpful analytics libraries installed\n",
    "# It is defined by the kaggle/python Docker image: https://github.com/kaggle/docker-python\n",
    "# For example, here's several helpful packages to load\n",
    "\n",
    "import numpy as np # linear algebra\n",
    "import pandas as pd # data processing, CSV file I/O (e.g. pd.read_csv)\n",
    "\n",
    "# Input data files are available in the read-only \"../input/\" directory\n",
    "# For example, running this (by clicking run or pressing Shift+Enter) will list all files under the input directory\n",
    "\n",
    "import os\n",
    "for dirname, _, filenames in os.walk('/kaggle/input'):\n",
    "    for filename in filenames:\n",
    "        print(os.path.join(dirname, filename))\n",
    "\n",
    "# You can write up to 20GB to the current directory (/kaggle/working/) that gets preserved as output when you create a version using \"Save & Run All\" \n",
    "# You can also write temporary files to /kaggle/temp/, but they won't be saved outside of the current session"
   ]
  },
  {
   "cell_type": "code",
   "execution_count": 2,
   "id": "85a90996",
   "metadata": {
    "execution": {
     "iopub.execute_input": "2025-05-20T02:01:16.829599Z",
     "iopub.status.busy": "2025-05-20T02:01:16.828681Z",
     "iopub.status.idle": "2025-05-20T02:01:16.872047Z",
     "shell.execute_reply": "2025-05-20T02:01:16.871113Z"
    },
    "papermill": {
     "duration": 0.048395,
     "end_time": "2025-05-20T02:01:16.873639",
     "exception": false,
     "start_time": "2025-05-20T02:01:16.825244",
     "status": "completed"
    },
    "tags": []
   },
   "outputs": [],
   "source": [
    "import numpy as np\n",
    "import pandas as pd\n",
    "\n",
    "train = pd.read_csv('/kaggle/input/titanic/train.csv')\n",
    "test = pd.read_csv('/kaggle/input/titanic/test.csv')\n",
    "\n",
    "train_x = train.drop(['Survived'],axis=1)\n",
    "train_y = train['Survived']\n",
    "\n",
    "test_x = test.copy()\n",
    "# test_x"
   ]
  },
  {
   "cell_type": "code",
   "execution_count": 3,
   "id": "f9c3e076",
   "metadata": {
    "execution": {
     "iopub.execute_input": "2025-05-20T02:01:16.880911Z",
     "iopub.status.busy": "2025-05-20T02:01:16.880155Z",
     "iopub.status.idle": "2025-05-20T02:01:16.903864Z",
     "shell.execute_reply": "2025-05-20T02:01:16.902794Z"
    },
    "papermill": {
     "duration": 0.028806,
     "end_time": "2025-05-20T02:01:16.905385",
     "exception": false,
     "start_time": "2025-05-20T02:01:16.876579",
     "status": "completed"
    },
    "tags": []
   },
   "outputs": [
    {
     "name": "stdout",
     "output_type": "stream",
     "text": [
      "<class 'pandas.core.frame.DataFrame'>\n",
      "RangeIndex: 891 entries, 0 to 890\n",
      "Data columns (total 12 columns):\n",
      " #   Column       Non-Null Count  Dtype  \n",
      "---  ------       --------------  -----  \n",
      " 0   PassengerId  891 non-null    int64  \n",
      " 1   Survived     891 non-null    int64  \n",
      " 2   Pclass       891 non-null    int64  \n",
      " 3   Name         891 non-null    object \n",
      " 4   Sex          891 non-null    object \n",
      " 5   Age          714 non-null    float64\n",
      " 6   SibSp        891 non-null    int64  \n",
      " 7   Parch        891 non-null    int64  \n",
      " 8   Ticket       891 non-null    object \n",
      " 9   Fare         891 non-null    float64\n",
      " 10  Cabin        204 non-null    object \n",
      " 11  Embarked     889 non-null    object \n",
      "dtypes: float64(2), int64(5), object(5)\n",
      "memory usage: 83.7+ KB\n"
     ]
    }
   ],
   "source": [
    "train.info()"
   ]
  },
  {
   "cell_type": "code",
   "execution_count": 4,
   "id": "6de801b5",
   "metadata": {
    "execution": {
     "iopub.execute_input": "2025-05-20T02:01:16.912293Z",
     "iopub.status.busy": "2025-05-20T02:01:16.912005Z",
     "iopub.status.idle": "2025-05-20T02:01:16.923077Z",
     "shell.execute_reply": "2025-05-20T02:01:16.922123Z"
    },
    "papermill": {
     "duration": 0.016144,
     "end_time": "2025-05-20T02:01:16.924428",
     "exception": false,
     "start_time": "2025-05-20T02:01:16.908284",
     "status": "completed"
    },
    "tags": []
   },
   "outputs": [
    {
     "name": "stdout",
     "output_type": "stream",
     "text": [
      "<class 'pandas.core.frame.DataFrame'>\n",
      "RangeIndex: 891 entries, 0 to 890\n",
      "Data columns (total 11 columns):\n",
      " #   Column       Non-Null Count  Dtype  \n",
      "---  ------       --------------  -----  \n",
      " 0   PassengerId  891 non-null    int64  \n",
      " 1   Pclass       891 non-null    int64  \n",
      " 2   Name         891 non-null    object \n",
      " 3   Sex          891 non-null    object \n",
      " 4   Age          714 non-null    float64\n",
      " 5   SibSp        891 non-null    int64  \n",
      " 6   Parch        891 non-null    int64  \n",
      " 7   Ticket       891 non-null    object \n",
      " 8   Fare         891 non-null    float64\n",
      " 9   Cabin        204 non-null    object \n",
      " 10  Embarked     889 non-null    object \n",
      "dtypes: float64(2), int64(4), object(5)\n",
      "memory usage: 76.7+ KB\n"
     ]
    }
   ],
   "source": [
    "train_x.info()"
   ]
  },
  {
   "cell_type": "code",
   "execution_count": 5,
   "id": "87dcc2ee",
   "metadata": {
    "execution": {
     "iopub.execute_input": "2025-05-20T02:01:16.931257Z",
     "iopub.status.busy": "2025-05-20T02:01:16.930973Z",
     "iopub.status.idle": "2025-05-20T02:01:16.939636Z",
     "shell.execute_reply": "2025-05-20T02:01:16.938824Z"
    },
    "papermill": {
     "duration": 0.013614,
     "end_time": "2025-05-20T02:01:16.940945",
     "exception": false,
     "start_time": "2025-05-20T02:01:16.927331",
     "status": "completed"
    },
    "tags": []
   },
   "outputs": [
    {
     "data": {
      "text/plain": [
       "0      0\n",
       "1      1\n",
       "2      1\n",
       "3      1\n",
       "4      0\n",
       "      ..\n",
       "886    0\n",
       "887    1\n",
       "888    0\n",
       "889    1\n",
       "890    0\n",
       "Name: Survived, Length: 891, dtype: int64"
      ]
     },
     "execution_count": 5,
     "metadata": {},
     "output_type": "execute_result"
    }
   ],
   "source": [
    "train_y"
   ]
  },
  {
   "cell_type": "code",
   "execution_count": 6,
   "id": "8cb19fd2",
   "metadata": {
    "execution": {
     "iopub.execute_input": "2025-05-20T02:01:16.948411Z",
     "iopub.status.busy": "2025-05-20T02:01:16.947663Z",
     "iopub.status.idle": "2025-05-20T02:01:18.419139Z",
     "shell.execute_reply": "2025-05-20T02:01:18.418071Z"
    },
    "papermill": {
     "duration": 1.477201,
     "end_time": "2025-05-20T02:01:18.421258",
     "exception": false,
     "start_time": "2025-05-20T02:01:16.944057",
     "status": "completed"
    },
    "tags": []
   },
   "outputs": [],
   "source": [
    "from sklearn.preprocessing import LabelEncoder\n",
    "\n",
    "train_x = train_x.drop(['PassengerId','Name','Ticket','Cabin'],axis=1)\n",
    "test_x = test_x.drop(['PassengerId','Name','Ticket','Cabin'],axis=1)\n",
    "\n",
    "for c in ['Sex','Embarked']:\n",
    "    le = LabelEncoder()\n",
    "    le.fit(train_x[c].fillna('NA'))\n",
    "\n",
    "    train_x[c] = le.transform(train_x[c].fillna('NA'))\n",
    "    test_x[c] = le.transform(test_x[c].fillna('NA'))"
   ]
  },
  {
   "cell_type": "code",
   "execution_count": 7,
   "id": "465d2860",
   "metadata": {
    "execution": {
     "iopub.execute_input": "2025-05-20T02:01:18.430678Z",
     "iopub.status.busy": "2025-05-20T02:01:18.430086Z",
     "iopub.status.idle": "2025-05-20T02:01:18.457146Z",
     "shell.execute_reply": "2025-05-20T02:01:18.456206Z"
    },
    "papermill": {
     "duration": 0.034083,
     "end_time": "2025-05-20T02:01:18.459056",
     "exception": false,
     "start_time": "2025-05-20T02:01:18.424973",
     "status": "completed"
    },
    "tags": []
   },
   "outputs": [
    {
     "data": {
      "text/html": [
       "<div>\n",
       "<style scoped>\n",
       "    .dataframe tbody tr th:only-of-type {\n",
       "        vertical-align: middle;\n",
       "    }\n",
       "\n",
       "    .dataframe tbody tr th {\n",
       "        vertical-align: top;\n",
       "    }\n",
       "\n",
       "    .dataframe thead th {\n",
       "        text-align: right;\n",
       "    }\n",
       "</style>\n",
       "<table border=\"1\" class=\"dataframe\">\n",
       "  <thead>\n",
       "    <tr style=\"text-align: right;\">\n",
       "      <th></th>\n",
       "      <th>Pclass</th>\n",
       "      <th>Sex</th>\n",
       "      <th>Age</th>\n",
       "      <th>SibSp</th>\n",
       "      <th>Parch</th>\n",
       "      <th>Fare</th>\n",
       "      <th>Embarked</th>\n",
       "    </tr>\n",
       "  </thead>\n",
       "  <tbody>\n",
       "    <tr>\n",
       "      <th>0</th>\n",
       "      <td>3</td>\n",
       "      <td>1</td>\n",
       "      <td>22.0</td>\n",
       "      <td>1</td>\n",
       "      <td>0</td>\n",
       "      <td>7.2500</td>\n",
       "      <td>3</td>\n",
       "    </tr>\n",
       "    <tr>\n",
       "      <th>1</th>\n",
       "      <td>1</td>\n",
       "      <td>0</td>\n",
       "      <td>38.0</td>\n",
       "      <td>1</td>\n",
       "      <td>0</td>\n",
       "      <td>71.2833</td>\n",
       "      <td>0</td>\n",
       "    </tr>\n",
       "    <tr>\n",
       "      <th>2</th>\n",
       "      <td>3</td>\n",
       "      <td>0</td>\n",
       "      <td>26.0</td>\n",
       "      <td>0</td>\n",
       "      <td>0</td>\n",
       "      <td>7.9250</td>\n",
       "      <td>3</td>\n",
       "    </tr>\n",
       "    <tr>\n",
       "      <th>3</th>\n",
       "      <td>1</td>\n",
       "      <td>0</td>\n",
       "      <td>35.0</td>\n",
       "      <td>1</td>\n",
       "      <td>0</td>\n",
       "      <td>53.1000</td>\n",
       "      <td>3</td>\n",
       "    </tr>\n",
       "    <tr>\n",
       "      <th>4</th>\n",
       "      <td>3</td>\n",
       "      <td>1</td>\n",
       "      <td>35.0</td>\n",
       "      <td>0</td>\n",
       "      <td>0</td>\n",
       "      <td>8.0500</td>\n",
       "      <td>3</td>\n",
       "    </tr>\n",
       "  </tbody>\n",
       "</table>\n",
       "</div>"
      ],
      "text/plain": [
       "   Pclass  Sex   Age  SibSp  Parch     Fare  Embarked\n",
       "0       3    1  22.0      1      0   7.2500         3\n",
       "1       1    0  38.0      1      0  71.2833         0\n",
       "2       3    0  26.0      0      0   7.9250         3\n",
       "3       1    0  35.0      1      0  53.1000         3\n",
       "4       3    1  35.0      0      0   8.0500         3"
      ]
     },
     "execution_count": 7,
     "metadata": {},
     "output_type": "execute_result"
    }
   ],
   "source": [
    "train_x.head()"
   ]
  },
  {
   "cell_type": "code",
   "execution_count": 8,
   "id": "58a608aa",
   "metadata": {
    "execution": {
     "iopub.execute_input": "2025-05-20T02:01:18.467629Z",
     "iopub.status.busy": "2025-05-20T02:01:18.467251Z",
     "iopub.status.idle": "2025-05-20T02:01:18.479653Z",
     "shell.execute_reply": "2025-05-20T02:01:18.478718Z"
    },
    "papermill": {
     "duration": 0.018481,
     "end_time": "2025-05-20T02:01:18.481142",
     "exception": false,
     "start_time": "2025-05-20T02:01:18.462661",
     "status": "completed"
    },
    "tags": []
   },
   "outputs": [
    {
     "data": {
      "text/html": [
       "<div>\n",
       "<style scoped>\n",
       "    .dataframe tbody tr th:only-of-type {\n",
       "        vertical-align: middle;\n",
       "    }\n",
       "\n",
       "    .dataframe tbody tr th {\n",
       "        vertical-align: top;\n",
       "    }\n",
       "\n",
       "    .dataframe thead th {\n",
       "        text-align: right;\n",
       "    }\n",
       "</style>\n",
       "<table border=\"1\" class=\"dataframe\">\n",
       "  <thead>\n",
       "    <tr style=\"text-align: right;\">\n",
       "      <th></th>\n",
       "      <th>Pclass</th>\n",
       "      <th>Sex</th>\n",
       "      <th>Age</th>\n",
       "      <th>SibSp</th>\n",
       "      <th>Parch</th>\n",
       "      <th>Fare</th>\n",
       "      <th>Embarked</th>\n",
       "    </tr>\n",
       "  </thead>\n",
       "  <tbody>\n",
       "    <tr>\n",
       "      <th>0</th>\n",
       "      <td>3</td>\n",
       "      <td>1</td>\n",
       "      <td>34.5</td>\n",
       "      <td>0</td>\n",
       "      <td>0</td>\n",
       "      <td>7.8292</td>\n",
       "      <td>2</td>\n",
       "    </tr>\n",
       "    <tr>\n",
       "      <th>1</th>\n",
       "      <td>3</td>\n",
       "      <td>0</td>\n",
       "      <td>47.0</td>\n",
       "      <td>1</td>\n",
       "      <td>0</td>\n",
       "      <td>7.0000</td>\n",
       "      <td>3</td>\n",
       "    </tr>\n",
       "    <tr>\n",
       "      <th>2</th>\n",
       "      <td>2</td>\n",
       "      <td>1</td>\n",
       "      <td>62.0</td>\n",
       "      <td>0</td>\n",
       "      <td>0</td>\n",
       "      <td>9.6875</td>\n",
       "      <td>2</td>\n",
       "    </tr>\n",
       "    <tr>\n",
       "      <th>3</th>\n",
       "      <td>3</td>\n",
       "      <td>1</td>\n",
       "      <td>27.0</td>\n",
       "      <td>0</td>\n",
       "      <td>0</td>\n",
       "      <td>8.6625</td>\n",
       "      <td>3</td>\n",
       "    </tr>\n",
       "    <tr>\n",
       "      <th>4</th>\n",
       "      <td>3</td>\n",
       "      <td>0</td>\n",
       "      <td>22.0</td>\n",
       "      <td>1</td>\n",
       "      <td>1</td>\n",
       "      <td>12.2875</td>\n",
       "      <td>3</td>\n",
       "    </tr>\n",
       "  </tbody>\n",
       "</table>\n",
       "</div>"
      ],
      "text/plain": [
       "   Pclass  Sex   Age  SibSp  Parch     Fare  Embarked\n",
       "0       3    1  34.5      0      0   7.8292         2\n",
       "1       3    0  47.0      1      0   7.0000         3\n",
       "2       2    1  62.0      0      0   9.6875         2\n",
       "3       3    1  27.0      0      0   8.6625         3\n",
       "4       3    0  22.0      1      1  12.2875         3"
      ]
     },
     "execution_count": 8,
     "metadata": {},
     "output_type": "execute_result"
    }
   ],
   "source": [
    "test_x.head()"
   ]
  },
  {
   "cell_type": "code",
   "execution_count": 9,
   "id": "25045ef4",
   "metadata": {
    "execution": {
     "iopub.execute_input": "2025-05-20T02:01:18.490171Z",
     "iopub.status.busy": "2025-05-20T02:01:18.489777Z",
     "iopub.status.idle": "2025-05-20T02:01:19.002567Z",
     "shell.execute_reply": "2025-05-20T02:01:19.001804Z"
    },
    "papermill": {
     "duration": 0.520138,
     "end_time": "2025-05-20T02:01:19.005064",
     "exception": false,
     "start_time": "2025-05-20T02:01:18.484926",
     "status": "completed"
    },
    "tags": []
   },
   "outputs": [],
   "source": [
    "from xgboost import XGBClassifier\n",
    "\n",
    "model = XGBClassifier(n_estimators = 20, random_state=60)\n",
    "model.fit(train_x,train_y)\n",
    "\n",
    "pred = model.predict_proba(test_x)[:,1]\n",
    "\n",
    "pred_label = np.where(pred>0.5,1,0)\n",
    "\n",
    "submission = pd.DataFrame({'PassengerId':test['PassengerId'],'Survived':pred_label})\n",
    "submission.to_csv('submission_second.csv',index=False)"
   ]
  },
  {
   "cell_type": "code",
   "execution_count": 10,
   "id": "53e27e60",
   "metadata": {
    "execution": {
     "iopub.execute_input": "2025-05-20T02:01:19.015129Z",
     "iopub.status.busy": "2025-05-20T02:01:19.014773Z",
     "iopub.status.idle": "2025-05-20T02:01:19.024294Z",
     "shell.execute_reply": "2025-05-20T02:01:19.023237Z"
    },
    "papermill": {
     "duration": 0.016115,
     "end_time": "2025-05-20T02:01:19.025953",
     "exception": false,
     "start_time": "2025-05-20T02:01:19.009838",
     "status": "completed"
    },
    "tags": []
   },
   "outputs": [
    {
     "data": {
      "text/plain": [
       "array([0.05409233, 0.08601922, 0.20616587, 0.12507793, 0.5341069 ,\n",
       "       0.09281658, 0.25530797, 0.05346163, 0.8009106 , 0.04060173,\n",
       "       0.05927171, 0.18039453, 0.96859133, 0.12016366, 0.96751046,\n",
       "       0.86398983, 0.11318507, 0.37830237, 0.39461014, 0.25172284,\n",
       "       0.565966  , 0.2903667 , 0.98742115, 0.60508895, 0.91935843,\n",
       "       0.06113544, 0.99025714, 0.37830237, 0.5942882 , 0.40176567,\n",
       "       0.05972103, 0.11751629, 0.62377864, 0.22240454, 0.56414574,\n",
       "       0.20112547, 0.16815741, 0.24367003, 0.09495079, 0.57600415,\n",
       "       0.13117534, 0.42037094, 0.06323732, 0.92941016, 0.9802367 ,\n",
       "       0.16198081, 0.16989706, 0.0901954 , 0.96571857, 0.80252117,\n",
       "       0.27742583, 0.19793326, 0.9079262 , 0.8987686 , 0.31826493,\n",
       "       0.02867129, 0.0512415 , 0.09730953, 0.11740826, 0.9830941 ,\n",
       "       0.06041237, 0.25347757, 0.07141396, 0.6725401 , 0.27979714,\n",
       "       0.9720758 , 0.7332563 , 0.0758532 , 0.28481966, 0.9146846 ,\n",
       "       0.5313977 , 0.05833671, 0.2925955 , 0.31022948, 0.9765335 ,\n",
       "       0.50010943, 0.12121434, 0.8483316 , 0.11414287, 0.5313977 ,\n",
       "       0.93458503, 0.16047072, 0.24398585, 0.05927171, 0.17032208,\n",
       "       0.25363615, 0.5544619 , 0.48291588, 0.7963602 , 0.9308499 ,\n",
       "       0.21370904, 0.10118451, 0.9112249 , 0.12121434, 0.80346704,\n",
       "       0.17360608, 0.95272636, 0.19529888, 0.66037244, 0.11022031,\n",
       "       0.9789131 , 0.08119625, 0.0901954 , 0.17360608, 0.6749535 ,\n",
       "       0.07183837, 0.13750418, 0.0901954 , 0.11262784, 0.06399343,\n",
       "       0.0894687 , 0.7963602 , 0.99054927, 0.75412726, 0.9585623 ,\n",
       "       0.16771072, 0.04456866, 0.84696746, 0.629483  , 0.9063405 ,\n",
       "       0.9540941 , 0.0901954 , 0.98733526, 0.10874745, 0.0901954 ,\n",
       "       0.54734427, 0.12524883, 0.89120245, 0.13626683, 0.06183813,\n",
       "       0.25325438, 0.11301947, 0.12209227, 0.05894462, 0.06587204,\n",
       "       0.12131938, 0.30805716, 0.08438778, 0.24367003, 0.04125129,\n",
       "       0.07969319, 0.9660614 , 0.39741144, 0.10035045, 0.70095146,\n",
       "       0.0777638 , 0.10124706, 0.06183813, 0.42037094, 0.08191416,\n",
       "       0.98546255, 0.09467269, 0.19052683, 0.6246978 , 0.05329351,\n",
       "       0.09730953, 0.96313906, 0.5177461 , 0.70095146, 0.51248175,\n",
       "       0.7963602 , 0.83757377, 0.84347045, 0.0139168 , 0.11189783,\n",
       "       0.19585611, 0.20765735, 0.04808009, 0.91337466, 0.24367003,\n",
       "       0.02689735, 0.3475349 , 0.0515945 , 0.09761774, 0.15226531,\n",
       "       0.98120433, 0.98438674, 0.58627635, 0.9766591 , 0.9073003 ,\n",
       "       0.11414287, 0.522041  , 0.98090255, 0.0901954 , 0.8767616 ,\n",
       "       0.0793934 , 0.9477481 , 0.10042108, 0.05572398, 0.11189783,\n",
       "       0.11795968, 0.13389932, 0.45711216, 0.16040242, 0.82409275,\n",
       "       0.05135879, 0.85082054, 0.6535129 , 0.06696899, 0.16815741,\n",
       "       0.83677924, 0.9681175 , 0.37898725, 0.8956807 , 0.09495079,\n",
       "       0.25316006, 0.27570963, 0.06696899, 0.9245165 , 0.07153729,\n",
       "       0.21371989, 0.0139168 , 0.05917533, 0.8229841 , 0.15765606,\n",
       "       0.15464997, 0.7963602 , 0.14659719, 0.9621296 , 0.12121434,\n",
       "       0.92915887, 0.06183813, 0.89545745, 0.12524883, 0.7679005 ,\n",
       "       0.3225222 , 0.12524883, 0.7963602 , 0.06607214, 0.16731906,\n",
       "       0.05917533, 0.9713388 , 0.06782307, 0.06239871, 0.60036844,\n",
       "       0.11041944, 0.4782188 , 0.2926723 , 0.86830556, 0.9763891 ,\n",
       "       0.6900544 , 0.9373402 , 0.41849673, 0.05927171, 0.05364008,\n",
       "       0.2254814 , 0.9477481 , 0.0705772 , 0.9063405 , 0.30206558,\n",
       "       0.8822341 , 0.3043292 , 0.28627688, 0.0615009 , 0.10780562,\n",
       "       0.02689735, 0.0901954 , 0.10791662, 0.8826949 , 0.12524883,\n",
       "       0.0705995 , 0.11041944, 0.955187  , 0.8846706 , 0.21801081,\n",
       "       0.05927171, 0.0231063 , 0.02689735, 0.16815741, 0.07589692,\n",
       "       0.22980121, 0.0901954 , 0.9299406 , 0.83677924, 0.09761774,\n",
       "       0.9184264 , 0.11639638, 0.06455137, 0.07183837, 0.06696899,\n",
       "       0.24367003, 0.94668436, 0.7963602 , 0.248911  , 0.77629495,\n",
       "       0.02893219, 0.02689735, 0.1846101 , 0.09761774, 0.12121434,\n",
       "       0.10124706, 0.24277675, 0.09761774, 0.09310367, 0.10780562,\n",
       "       0.07153729, 0.9492608 , 0.40176567, 0.16395576, 0.18115726,\n",
       "       0.20882349, 0.18249087, 0.07950818, 0.0615009 , 0.7963602 ,\n",
       "       0.83557874, 0.38394794, 0.96112484, 0.29860562, 0.22869559,\n",
       "       0.07589692, 0.37830237, 0.02689735, 0.19569215, 0.9700095 ,\n",
       "       0.7059418 , 0.31883973, 0.08253242, 0.2226937 , 0.11751629,\n",
       "       0.17360608, 0.16823041, 0.08438778, 0.8488283 , 0.97007924,\n",
       "       0.08452606, 0.96069753, 0.22980121, 0.10035045, 0.05931487,\n",
       "       0.96703   , 0.22095507, 0.09761774, 0.58251244, 0.12510079,\n",
       "       0.41001144, 0.28241143, 0.03132492, 0.18649033, 0.09761774,\n",
       "       0.08253242, 0.09663538, 0.06473964, 0.953841  , 0.08028191,\n",
       "       0.62190855, 0.08438778, 0.31763938, 0.0515945 , 0.96537906,\n",
       "       0.9797306 , 0.09495079, 0.05917533, 0.05061788, 0.76216894,\n",
       "       0.16489194, 0.962913  , 0.05927171, 0.0901954 , 0.4367895 ,\n",
       "       0.02076775, 0.9752969 , 0.96537906, 0.12507793, 0.9726403 ,\n",
       "       0.09438325, 0.25363615, 0.11197659, 0.9830378 , 0.2749345 ,\n",
       "       0.08530593, 0.9869285 , 0.04181243, 0.13626683, 0.96751046,\n",
       "       0.97400665, 0.15127827, 0.08530593, 0.0609824 , 0.08506503,\n",
       "       0.0901954 , 0.0900501 , 0.27036718, 0.45907894, 0.16272533,\n",
       "       0.93840116, 0.1581687 , 0.08583574, 0.13294   , 0.03169752,\n",
       "       0.53248143, 0.96999073, 0.10751949, 0.11447401, 0.02243887,\n",
       "       0.9812367 , 0.12161825, 0.9786301 , 0.12524883, 0.11668973,\n",
       "       0.9496441 , 0.0705995 , 0.9918611 , 0.14389035, 0.22636919,\n",
       "       0.26981562, 0.06696899, 0.36063817, 0.6486857 , 0.5672722 ,\n",
       "       0.7963602 , 0.98393816, 0.2925955 , 0.12121434, 0.9798599 ,\n",
       "       0.02563024, 0.12121434, 0.4154434 ], dtype=float32)"
      ]
     },
     "execution_count": 10,
     "metadata": {},
     "output_type": "execute_result"
    }
   ],
   "source": [
    "pred"
   ]
  },
  {
   "cell_type": "code",
   "execution_count": 11,
   "id": "b5f3b80b",
   "metadata": {
    "execution": {
     "iopub.execute_input": "2025-05-20T02:01:19.035990Z",
     "iopub.status.busy": "2025-05-20T02:01:19.035473Z",
     "iopub.status.idle": "2025-05-20T02:01:19.043086Z",
     "shell.execute_reply": "2025-05-20T02:01:19.042073Z"
    },
    "papermill": {
     "duration": 0.014276,
     "end_time": "2025-05-20T02:01:19.044698",
     "exception": false,
     "start_time": "2025-05-20T02:01:19.030422",
     "status": "completed"
    },
    "tags": []
   },
   "outputs": [
    {
     "data": {
      "text/plain": [
       "array([0, 0, 0, 0, 1, 0, 0, 0, 1, 0, 0, 0, 1, 0, 1, 1, 0, 0, 0, 0, 1, 0,\n",
       "       1, 1, 1, 0, 1, 0, 1, 0, 0, 0, 1, 0, 1, 0, 0, 0, 0, 1, 0, 0, 0, 1,\n",
       "       1, 0, 0, 0, 1, 1, 0, 0, 1, 1, 0, 0, 0, 0, 0, 1, 0, 0, 0, 1, 0, 1,\n",
       "       1, 0, 0, 1, 1, 0, 0, 0, 1, 1, 0, 1, 0, 1, 1, 0, 0, 0, 0, 0, 1, 0,\n",
       "       1, 1, 0, 0, 1, 0, 1, 0, 1, 0, 1, 0, 1, 0, 0, 0, 1, 0, 0, 0, 0, 0,\n",
       "       0, 1, 1, 1, 1, 0, 0, 1, 1, 1, 1, 0, 1, 0, 0, 1, 0, 1, 0, 0, 0, 0,\n",
       "       0, 0, 0, 0, 0, 0, 0, 0, 0, 1, 0, 0, 1, 0, 0, 0, 0, 0, 1, 0, 0, 1,\n",
       "       0, 0, 1, 1, 1, 1, 1, 1, 1, 0, 0, 0, 0, 0, 1, 0, 0, 0, 0, 0, 0, 1,\n",
       "       1, 1, 1, 1, 0, 1, 1, 0, 1, 0, 1, 0, 0, 0, 0, 0, 0, 0, 1, 0, 1, 1,\n",
       "       0, 0, 1, 1, 0, 1, 0, 0, 0, 0, 1, 0, 0, 0, 0, 1, 0, 0, 1, 0, 1, 0,\n",
       "       1, 0, 1, 0, 1, 0, 0, 1, 0, 0, 0, 1, 0, 0, 1, 0, 0, 0, 1, 1, 1, 1,\n",
       "       0, 0, 0, 0, 1, 0, 1, 0, 1, 0, 0, 0, 0, 0, 0, 0, 1, 0, 0, 0, 1, 1,\n",
       "       0, 0, 0, 0, 0, 0, 0, 0, 1, 1, 0, 1, 0, 0, 0, 0, 0, 1, 1, 0, 1, 0,\n",
       "       0, 0, 0, 0, 0, 0, 0, 0, 0, 0, 1, 0, 0, 0, 0, 0, 0, 0, 1, 1, 0, 1,\n",
       "       0, 0, 0, 0, 0, 0, 1, 1, 0, 0, 0, 0, 0, 0, 0, 1, 1, 0, 1, 0, 0, 0,\n",
       "       1, 0, 0, 1, 0, 0, 0, 0, 0, 0, 0, 0, 0, 1, 0, 1, 0, 0, 0, 1, 1, 0,\n",
       "       0, 0, 1, 0, 1, 0, 0, 0, 0, 1, 1, 0, 1, 0, 0, 0, 1, 0, 0, 1, 0, 0,\n",
       "       1, 1, 0, 0, 0, 0, 0, 0, 0, 0, 0, 1, 0, 0, 0, 0, 1, 1, 0, 0, 0, 1,\n",
       "       0, 1, 0, 0, 1, 0, 1, 0, 0, 0, 0, 0, 1, 1, 1, 1, 0, 0, 1, 0, 0, 0])"
      ]
     },
     "execution_count": 11,
     "metadata": {},
     "output_type": "execute_result"
    }
   ],
   "source": [
    "pred_label"
   ]
  },
  {
   "cell_type": "code",
   "execution_count": 12,
   "id": "01e78fae",
   "metadata": {
    "execution": {
     "iopub.execute_input": "2025-05-20T02:01:19.054670Z",
     "iopub.status.busy": "2025-05-20T02:01:19.053864Z",
     "iopub.status.idle": "2025-05-20T02:01:19.064368Z",
     "shell.execute_reply": "2025-05-20T02:01:19.063506Z"
    },
    "papermill": {
     "duration": 0.017111,
     "end_time": "2025-05-20T02:01:19.065993",
     "exception": false,
     "start_time": "2025-05-20T02:01:19.048882",
     "status": "completed"
    },
    "tags": []
   },
   "outputs": [
    {
     "data": {
      "text/html": [
       "<div>\n",
       "<style scoped>\n",
       "    .dataframe tbody tr th:only-of-type {\n",
       "        vertical-align: middle;\n",
       "    }\n",
       "\n",
       "    .dataframe tbody tr th {\n",
       "        vertical-align: top;\n",
       "    }\n",
       "\n",
       "    .dataframe thead th {\n",
       "        text-align: right;\n",
       "    }\n",
       "</style>\n",
       "<table border=\"1\" class=\"dataframe\">\n",
       "  <thead>\n",
       "    <tr style=\"text-align: right;\">\n",
       "      <th></th>\n",
       "      <th>PassengerId</th>\n",
       "      <th>Survived</th>\n",
       "    </tr>\n",
       "  </thead>\n",
       "  <tbody>\n",
       "    <tr>\n",
       "      <th>0</th>\n",
       "      <td>892</td>\n",
       "      <td>0</td>\n",
       "    </tr>\n",
       "    <tr>\n",
       "      <th>1</th>\n",
       "      <td>893</td>\n",
       "      <td>0</td>\n",
       "    </tr>\n",
       "    <tr>\n",
       "      <th>2</th>\n",
       "      <td>894</td>\n",
       "      <td>0</td>\n",
       "    </tr>\n",
       "    <tr>\n",
       "      <th>3</th>\n",
       "      <td>895</td>\n",
       "      <td>0</td>\n",
       "    </tr>\n",
       "    <tr>\n",
       "      <th>4</th>\n",
       "      <td>896</td>\n",
       "      <td>1</td>\n",
       "    </tr>\n",
       "    <tr>\n",
       "      <th>...</th>\n",
       "      <td>...</td>\n",
       "      <td>...</td>\n",
       "    </tr>\n",
       "    <tr>\n",
       "      <th>413</th>\n",
       "      <td>1305</td>\n",
       "      <td>0</td>\n",
       "    </tr>\n",
       "    <tr>\n",
       "      <th>414</th>\n",
       "      <td>1306</td>\n",
       "      <td>1</td>\n",
       "    </tr>\n",
       "    <tr>\n",
       "      <th>415</th>\n",
       "      <td>1307</td>\n",
       "      <td>0</td>\n",
       "    </tr>\n",
       "    <tr>\n",
       "      <th>416</th>\n",
       "      <td>1308</td>\n",
       "      <td>0</td>\n",
       "    </tr>\n",
       "    <tr>\n",
       "      <th>417</th>\n",
       "      <td>1309</td>\n",
       "      <td>0</td>\n",
       "    </tr>\n",
       "  </tbody>\n",
       "</table>\n",
       "<p>418 rows × 2 columns</p>\n",
       "</div>"
      ],
      "text/plain": [
       "     PassengerId  Survived\n",
       "0            892         0\n",
       "1            893         0\n",
       "2            894         0\n",
       "3            895         0\n",
       "4            896         1\n",
       "..           ...       ...\n",
       "413         1305         0\n",
       "414         1306         1\n",
       "415         1307         0\n",
       "416         1308         0\n",
       "417         1309         0\n",
       "\n",
       "[418 rows x 2 columns]"
      ]
     },
     "execution_count": 12,
     "metadata": {},
     "output_type": "execute_result"
    }
   ],
   "source": [
    "submission"
   ]
  }
 ],
 "metadata": {
  "kaggle": {
   "accelerator": "none",
   "dataSources": [
    {
     "databundleVersionId": 26502,
     "sourceId": 3136,
     "sourceType": "competition"
    }
   ],
   "dockerImageVersionId": 31040,
   "isGpuEnabled": false,
   "isInternetEnabled": false,
   "language": "python",
   "sourceType": "notebook"
  },
  "kernelspec": {
   "display_name": "Python 3",
   "language": "python",
   "name": "python3"
  },
  "language_info": {
   "codemirror_mode": {
    "name": "ipython",
    "version": 3
   },
   "file_extension": ".py",
   "mimetype": "text/x-python",
   "name": "python",
   "nbconvert_exporter": "python",
   "pygments_lexer": "ipython3",
   "version": "3.11.11"
  },
  "papermill": {
   "default_parameters": {},
   "duration": 9.548028,
   "end_time": "2025-05-20T02:01:19.793782",
   "environment_variables": {},
   "exception": null,
   "input_path": "__notebook__.ipynb",
   "output_path": "__notebook__.ipynb",
   "parameters": {},
   "start_time": "2025-05-20T02:01:10.245754",
   "version": "2.6.0"
  }
 },
 "nbformat": 4,
 "nbformat_minor": 5
}
