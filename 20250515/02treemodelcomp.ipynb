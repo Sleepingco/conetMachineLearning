{
 "cells": [
  {
   "cell_type": "code",
   "execution_count": 1,
   "id": "82be7a8b",
   "metadata": {},
   "outputs": [],
   "source": [
    "from sklearn.datasets import load_iris,load_wine,load_breast_cancer,load_diabetes\n",
    "from sklearn.datasets import fetch_california_housing\n",
    "from sklearn.preprocessing import StandardScaler\n",
    "from sklearn.pipeline import make_pipeline\n",
    "from sklearn.model_selection import cross_validate"
   ]
  },
  {
   "cell_type": "code",
   "execution_count": 2,
   "id": "d97d7f6a",
   "metadata": {},
   "outputs": [],
   "source": [
    "from sklearn.ensemble import BaggingClassifier\n",
    "from sklearn.neighbors import KNeighborsClassifier\n",
    "from sklearn.svm import SVC\n",
    "from sklearn.tree import DecisionTreeClassifier"
   ]
  },
  {
   "cell_type": "code",
   "execution_count": 3,
   "id": "5da9fc02",
   "metadata": {},
   "outputs": [],
   "source": [
    "from sklearn.ensemble import BaggingRegressor\n",
    "from sklearn.neighbors import KNeighborsRegressor\n",
    "from sklearn.svm import SVR\n",
    "from sklearn.tree import DecisionTreeRegressor"
   ]
  },
  {
   "cell_type": "code",
   "execution_count": 279,
   "id": "0e361b3b",
   "metadata": {},
   "outputs": [],
   "source": [
    "from sklearn.ensemble import RandomForestClassifier,ExtraTreesClassifier\n",
    "from sklearn.ensemble import RandomForestRegressor,ExtraTreesRegressor\n",
    "from sklearn.model_selection import cross_validate, StratifiedKFold\n"
   ]
  },
  {
   "cell_type": "code",
   "execution_count": 432,
   "id": "eb262983",
   "metadata": {},
   "outputs": [],
   "source": [
    "iris = load_iris()\n",
    "wine = load_wine()\n",
    "cancer = load_breast_cancer()\n",
    "cv_class = StratifiedKFold(n_splits=5, shuffle=True, random_state=42)\n"
   ]
  },
  {
   "cell_type": "code",
   "execution_count": 431,
   "id": "451d8635",
   "metadata": {},
   "outputs": [],
   "source": [
    "KB_model = make_pipeline(\n",
    "    StandardScaler(),\n",
    "    KNeighborsClassifier()\n",
    ")\n",
    "\n",
    "bagging_model = BaggingClassifier(KB_model, n_estimators=10, random_state=42)"
   ]
  },
  {
   "cell_type": "markdown",
   "id": "af1dd431",
   "metadata": {},
   "source": [
    "## KNN Bagging with IRIS"
   ]
  },
  {
   "cell_type": "code",
   "execution_count": 7,
   "id": "7b6d3c0c",
   "metadata": {},
   "outputs": [
    {
     "name": "stdout",
     "output_type": "stream",
     "text": [
      "Average Fot Time : Time 0.002833271026611328\n",
      "Average Score Time : 0.0020304203033447267\n",
      "Average Test Score : 0.96\n"
     ]
    }
   ],
   "source": [
    "cross_val = cross_validate(\n",
    "    estimator = KB_model,\n",
    "    X=iris.data, y = iris.target,\n",
    "    cv=cv\n",
    ")\n",
    "\n",
    "print('Average Fot Time : Time {}'.format(cross_val['fit_time'].mean()))\n",
    "print('Average Score Time : {}'.format(cross_val['score_time'].mean()))\n",
    "print('Average Test Score : {}'.format(cross_val['test_score'].mean()))"
   ]
  },
  {
   "cell_type": "code",
   "execution_count": 322,
   "id": "6b773c4b",
   "metadata": {},
   "outputs": [
    {
     "name": "stdout",
     "output_type": "stream",
     "text": [
      "Average Fot Time : Time 0.014457464218139648\n",
      "Average Score Time : 0.0053131103515625\n",
      "Average Test Score : 0.9666666666666666\n"
     ]
    }
   ],
   "source": [
    "cross_val = cross_validate(\n",
    "    estimator = bagging_model,\n",
    "    X=iris.data, y=iris.target,\n",
    "    # cv=cv\n",
    "    cv=5\n",
    ")\n",
    "print('Average Fot Time : Time {}'.format(cross_val['fit_time'].mean()))\n",
    "print('Average Score Time : {}'.format(cross_val['score_time'].mean()))\n",
    "print('Average Test Score : {}'.format(cross_val['test_score'].mean()))"
   ]
  },
  {
   "cell_type": "markdown",
   "id": "45096094",
   "metadata": {},
   "source": [
    "붓꽃 데이터에 KNN 모델과 KNN을 bagging으로 사용한 모델 성능 비교(0.97>0.96)"
   ]
  },
  {
   "cell_type": "code",
   "execution_count": 325,
   "id": "f872c252",
   "metadata": {},
   "outputs": [
    {
     "name": "stdout",
     "output_type": "stream",
     "text": [
      "Average Fot Time : Time 0.002203226089477539\n",
      "Average Score Time : 0.004506874084472656\n",
      "Average Test Score : 0.9717460317460318\n"
     ]
    }
   ],
   "source": [
    "cross_val = cross_validate(\n",
    "    estimator= KB_model,\n",
    "    X=wine.data, y = wine.target,\n",
    "    cv =cv\n",
    ")\n",
    "print('Average Fot Time : Time {}'.format(cross_val['fit_time'].mean()))\n",
    "print('Average Score Time : {}'.format(cross_val['score_time'].mean()))\n",
    "print('Average Test Score : {}'.format(cross_val['test_score'].mean()))"
   ]
  },
  {
   "cell_type": "code",
   "execution_count": 335,
   "id": "f3a1cd44",
   "metadata": {},
   "outputs": [
    {
     "name": "stdout",
     "output_type": "stream",
     "text": [
      "Average Fot Time : Time 0.01468343734741211\n",
      "Average Score Time : 0.006968402862548828\n",
      "Average Test Score : 0.954920634920635\n"
     ]
    }
   ],
   "source": [
    "cross_val = cross_validate(\n",
    "    estimator= bagging_model,\n",
    "    X=wine.data, y = wine.target,\n",
    "    cv =cv\n",
    ")\n",
    "print('Average Fot Time : Time {}'.format(cross_val['fit_time'].mean()))\n",
    "print('Average Score Time : {}'.format(cross_val['score_time'].mean()))\n",
    "print('Average Test Score : {}'.format(cross_val['test_score'].mean()))"
   ]
  },
  {
   "cell_type": "markdown",
   "id": "c253cebd",
   "metadata": {},
   "source": [
    "와인 데이터에 KNN 모델과 KNN bagging으로 사용한 모델 성능 비교 (0.96>0.95)"
   ]
  },
  {
   "cell_type": "code",
   "execution_count": 336,
   "id": "79c48456",
   "metadata": {},
   "outputs": [
    {
     "name": "stdout",
     "output_type": "stream",
     "text": [
      "Average Fit Time : 0.0014152050018310547\n",
      "Average Score Time : 0.008544445037841797\n",
      "Average Test Score : 0.9630957925787922\n"
     ]
    }
   ],
   "source": [
    "cross_val = cross_validate(\n",
    "    estimator= KB_model,\n",
    "    X = cancer.data,y=cancer.target,\n",
    "    cv=cv\n",
    ")\n",
    "print('Average Fit Time : {}'.format(cross_val['fit_time'].mean()))\n",
    "print('Average Score Time : {}'.format(cross_val['score_time'].mean()))\n",
    "print('Average Test Score : {}'.format(cross_val['test_score'].mean()))"
   ]
  },
  {
   "cell_type": "code",
   "execution_count": 337,
   "id": "ebf24a91",
   "metadata": {},
   "outputs": [
    {
     "name": "stdout",
     "output_type": "stream",
     "text": [
      "Average Fit Time : 0.017498874664306642\n",
      "Average Score Time : 0.060714340209960936\n",
      "Average Test Score : 0.9648346530041918\n"
     ]
    }
   ],
   "source": [
    "cross_val = cross_validate(\n",
    "    estimator=bagging_model,\n",
    "    X=cancer.data, y = cancer.target,\n",
    "    cv=cv\n",
    ")\n",
    "print('Average Fit Time : {}'.format(cross_val['fit_time'].mean()))\n",
    "print('Average Score Time : {}'.format(cross_val['score_time'].mean()))\n",
    "print('Average Test Score : {}'.format(cross_val['test_score'].mean()))"
   ]
  },
  {
   "cell_type": "markdown",
   "id": "897bf065",
   "metadata": {},
   "source": [
    "Breast cancer 데이터에 KNN 모델과 KNN bagging으로 사용한 모델 성능 비교(0.97>0.96)\n",
    "결론 bagging 모델이 보통 성적이 좋음"
   ]
  },
  {
   "cell_type": "markdown",
   "id": "3d08088c",
   "metadata": {},
   "source": [
    "## SVC 모델 구성 후 SVC bagging 모델 성능 비교"
   ]
  },
  {
   "cell_type": "code",
   "execution_count": null,
   "id": "3698893d",
   "metadata": {},
   "outputs": [],
   "source": [
    "SB_model = make_pipeline(\n",
    "    StandardScaler(),\n",
    "    SVC()\n",
    ")\n",
    "\n",
    "Sbagging_model = BaggingClassifier(SB_model, n_estimators=10,random_state=42)\n",
    "# ''',max_samples=0.5,max_features=0.5'''"
   ]
  },
  {
   "cell_type": "code",
   "execution_count": 339,
   "id": "f8d067f6",
   "metadata": {},
   "outputs": [
    {
     "name": "stdout",
     "output_type": "stream",
     "text": [
      "Average Fit Time : 0.002403402328491211\n",
      "Average Score Time : 0.001400899887084961\n",
      "Average Test Score : 0.96\n"
     ]
    }
   ],
   "source": [
    "cross_val = cross_validate(\n",
    "    estimator= SB_model,\n",
    "    X=iris.data, y=iris.target,\n",
    "    cv=cv\n",
    ")\n",
    "print('Average Fit Time : {}'.format(cross_val['fit_time'].mean()))\n",
    "print('Average Score Time : {}'.format(cross_val['score_time'].mean()))\n",
    "print('Average Test Score : {}'.format(cross_val['test_score'].mean()))"
   ]
  },
  {
   "cell_type": "code",
   "execution_count": 341,
   "id": "15f6dce7",
   "metadata": {},
   "outputs": [
    {
     "name": "stdout",
     "output_type": "stream",
     "text": [
      "Average Fit Time : 0.021345901489257812\n",
      "Average Score Time : 0.0038942337036132813\n",
      "Average Test Score : 0.9600000000000002\n"
     ]
    }
   ],
   "source": [
    "cross_val = cross_validate(\n",
    "    estimator=Sbagging_model,\n",
    "    X=iris.data,y=iris.target,\n",
    "    cv=cv\n",
    ")\n",
    "print('Average Fit Time : {}'.format(cross_val['fit_time'].mean()))\n",
    "print('Average Score Time : {}'.format(cross_val['score_time'].mean()))\n",
    "print('Average Test Score : {}'.format(cross_val['test_score'].mean()))"
   ]
  },
  {
   "cell_type": "markdown",
   "id": "c5221cea",
   "metadata": {},
   "source": [
    "붓꽃 데이터에 SVC 모델과 SVC bagging 모델 성능 비교\n",
    "\n",
    "random state를 지정 안하니 svcBagging 모델이 계속 값이 바뀜 \n",
    "svc모델은 maxsample과 maxfeature을 적용유무에 관계없이 0.9666...으로 값이 고정\n",
    "하지만 svcbagging 모델은 maxsample과 maxfeature을 적용시 0.94,0.93,0.92  등 값이 0.96에 비해 낮게 나옴\n",
    "완전한 데이터를 사용하면 0.966..,0.98,0.97,0.96 등 svc모델보다 보통은 높게 나오나 간혹 0.95로 값이 낮게 나오는 경우 존재 차후 random stata 적용후 확인 필요"
   ]
  },
  {
   "cell_type": "code",
   "execution_count": 342,
   "id": "59c4f7be",
   "metadata": {},
   "outputs": [
    {
     "name": "stdout",
     "output_type": "stream",
     "text": [
      "Average Fit Time : 0.0036543846130371095\n",
      "Average Score Time : 0.0013934612274169923\n",
      "Average Test Score : 0.9833333333333332\n"
     ]
    }
   ],
   "source": [
    "cross_val = cross_validate(\n",
    "    estimator=SB_model,\n",
    "    X=wine.data,y=wine.target,\n",
    "    cv=cv\n",
    ")\n",
    "print('Average Fit Time : {}'.format(cross_val['fit_time'].mean()))\n",
    "print('Average Score Time : {}'.format(cross_val['score_time'].mean()))\n",
    "print('Average Test Score : {}'.format(cross_val['test_score'].mean()))"
   ]
  },
  {
   "cell_type": "code",
   "execution_count": 344,
   "id": "c8508837",
   "metadata": {},
   "outputs": [
    {
     "name": "stdout",
     "output_type": "stream",
     "text": [
      "Average Fit Time : 0.02788510322570801\n",
      "Average Score Time : 0.005004310607910156\n",
      "Average Test Score : 0.9833333333333332\n"
     ]
    }
   ],
   "source": [
    "cross_val = cross_validate(\n",
    "    estimator=Sbagging_model,\n",
    "    X=wine.data,y=wine.target,\n",
    "    cv=cv\n",
    ")\n",
    "print('Average Fit Time : {}'.format(cross_val['fit_time'].mean()))\n",
    "print('Average Score Time : {}'.format(cross_val['score_time'].mean()))\n",
    "print('Average Test Score : {}'.format(cross_val['test_score'].mean()))"
   ]
  },
  {
   "cell_type": "markdown",
   "id": "3b03b564",
   "metadata": {},
   "source": [
    "와인 데이터에 SVC 모델과 SVC bagging 모델 성능 비교"
   ]
  },
  {
   "cell_type": "code",
   "execution_count": 346,
   "id": "3ea2b3c6",
   "metadata": {},
   "outputs": [
    {
     "name": "stdout",
     "output_type": "stream",
     "text": [
      "Average Fit Time : 0.002844715118408203\n",
      "Average Score Time : 0.0011983394622802734\n",
      "Average Test Score : 0.9833333333333332\n"
     ]
    }
   ],
   "source": [
    "cross_val = cross_validate(\n",
    "    estimator=SB_model,\n",
    "    X=wine.data,y=wine.target,\n",
    "    cv=cv\n",
    ")\n",
    "print('Average Fit Time : {}'.format(cross_val['fit_time'].mean()))\n",
    "print('Average Score Time : {}'.format(cross_val['score_time'].mean()))\n",
    "print('Average Test Score : {}'.format(cross_val['test_score'].mean()))"
   ]
  },
  {
   "cell_type": "code",
   "execution_count": 345,
   "id": "d1839a9a",
   "metadata": {},
   "outputs": [
    {
     "name": "stdout",
     "output_type": "stream",
     "text": [
      "Average Fit Time : 0.0310152530670166\n",
      "Average Score Time : 0.00938410758972168\n",
      "Average Test Score : 0.9771619313771154\n"
     ]
    }
   ],
   "source": [
    "cross_val = cross_validate(\n",
    "    estimator=Sbagging_model,\n",
    "    X=cancer.data,y=cancer.target,\n",
    "    cv=cv\n",
    ")\n",
    "print('Average Fit Time : {}'.format(cross_val['fit_time'].mean()))\n",
    "print('Average Score Time : {}'.format(cross_val['score_time'].mean()))\n",
    "print('Average Test Score : {}'.format(cross_val['test_score'].mean()))"
   ]
  },
  {
   "cell_type": "markdown",
   "id": "1d3f462b",
   "metadata": {},
   "source": [
    "Breast cancer 데이터에 SVC 모델과 SVC bagging 모델 성능 비교"
   ]
  },
  {
   "cell_type": "code",
   "execution_count": 377,
   "id": "c2ad0d13",
   "metadata": {},
   "outputs": [],
   "source": [
    "DB_model = make_pipeline(\n",
    "    StandardScaler(),\n",
    "    DecisionTreeClassifier(random_state=42)\n",
    ")\n",
    "\n",
    "Dbagging_model = BaggingClassifier(\n",
    "    estimator=DB_model,\n",
    "    n_estimators=10,\n",
    "    random_state=42\n",
    ")\n",
    "\n"
   ]
  },
  {
   "cell_type": "markdown",
   "id": "bdefeb77",
   "metadata": {},
   "source": [
    "Decision Tree모델과 Decision Tree bagging 모델 성능 비교"
   ]
  },
  {
   "cell_type": "code",
   "execution_count": 385,
   "id": "f7328b2e",
   "metadata": {},
   "outputs": [
    {
     "name": "stdout",
     "output_type": "stream",
     "text": [
      "Average Fit Time : 0.0021051883697509764\n",
      "Average Score Time : 0.001000213623046875\n",
      "Average Test Score : 0.9533333333333335\n"
     ]
    }
   ],
   "source": [
    "cross_val = cross_validate(\n",
    "    estimator=DB_model,\n",
    "    X=iris.data, y=iris.target,\n",
    "    cv=cv\n",
    ")\n",
    "print('Average Fit Time : {}'.format(cross_val['fit_time'].mean()))\n",
    "print('Average Score Time : {}'.format(cross_val['score_time'].mean()))\n",
    "print('Average Test Score : {}'.format(cross_val['test_score'].mean()))"
   ]
  },
  {
   "cell_type": "code",
   "execution_count": 389,
   "id": "f491958c",
   "metadata": {},
   "outputs": [
    {
     "name": "stdout",
     "output_type": "stream",
     "text": [
      "Average Fit Time : 0.019935131072998047\n",
      "Average Score Time : 0.0031001091003417967\n",
      "Average Test Score : 0.9533333333333334\n"
     ]
    }
   ],
   "source": [
    "cross_val = cross_validate(\n",
    "    estimator=Dbagging_model,\n",
    "    X=iris.data, y=iris.target,\n",
    "    cv=cv\n",
    ")\n",
    "print('Average Fit Time : {}'.format(cross_val['fit_time'].mean()))\n",
    "print('Average Score Time : {}'.format(cross_val['score_time'].mean()))\n",
    "print('Average Test Score : {}'.format(cross_val['test_score'].mean()))"
   ]
  },
  {
   "cell_type": "markdown",
   "id": "9f117388",
   "metadata": {},
   "source": [
    "붓꽃 데이터에 DT 모델과 DT bagging모델 성능 비교"
   ]
  },
  {
   "cell_type": "code",
   "execution_count": 390,
   "id": "78740b24",
   "metadata": {},
   "outputs": [
    {
     "name": "stdout",
     "output_type": "stream",
     "text": [
      "Average Fit Time : 0.0034877300262451173\n",
      "Average Score Time : 0.0010764122009277344\n",
      "Average Test Score : 0.8988888888888888\n"
     ]
    }
   ],
   "source": [
    "cross_val = cross_validate(\n",
    "    estimator=DB_model,\n",
    "    X=wine.data, y=wine.target,\n",
    "    cv=cv\n",
    ")\n",
    "print('Average Fit Time : {}'.format(cross_val['fit_time'].mean()))\n",
    "print('Average Score Time : {}'.format(cross_val['score_time'].mean()))\n",
    "print('Average Test Score : {}'.format(cross_val['test_score'].mean()))"
   ]
  },
  {
   "cell_type": "code",
   "execution_count": 391,
   "id": "a325dc20",
   "metadata": {},
   "outputs": [
    {
     "name": "stdout",
     "output_type": "stream",
     "text": [
      "Average Fit Time : 0.021307611465454103\n",
      "Average Score Time : 0.004184246063232422\n",
      "Average Test Score : 0.954920634920635\n"
     ]
    }
   ],
   "source": [
    "cross_val = cross_validate(\n",
    "    estimator=Dbagging_model,\n",
    "    X=wine.data, y=wine.target,\n",
    "    cv=cv\n",
    ")\n",
    "print('Average Fit Time : {}'.format(cross_val['fit_time'].mean()))\n",
    "print('Average Score Time : {}'.format(cross_val['score_time'].mean()))\n",
    "print('Average Test Score : {}'.format(cross_val['test_score'].mean()))"
   ]
  },
  {
   "cell_type": "markdown",
   "id": "a7495676",
   "metadata": {},
   "source": [
    "와인 데이터에 DT 모델과 DT bagging모델 성능 비교"
   ]
  },
  {
   "cell_type": "code",
   "execution_count": 392,
   "id": "552d18d8",
   "metadata": {},
   "outputs": [
    {
     "name": "stdout",
     "output_type": "stream",
     "text": [
      "Average Fit Time : 0.008234500885009766\n",
      "Average Score Time : 0.0010041236877441407\n",
      "Average Test Score : 0.9104021114733737\n"
     ]
    }
   ],
   "source": [
    "cross_val = cross_validate(\n",
    "    estimator=DB_model,\n",
    "    X=cancer.data, y=cancer.target,\n",
    "    cv=cv\n",
    ")\n",
    "print('Average Fit Time : {}'.format(cross_val['fit_time'].mean()))\n",
    "print('Average Score Time : {}'.format(cross_val['score_time'].mean()))\n",
    "print('Average Test Score : {}'.format(cross_val['test_score'].mean()))"
   ]
  },
  {
   "cell_type": "code",
   "execution_count": 393,
   "id": "66636f65",
   "metadata": {},
   "outputs": [
    {
     "name": "stdout",
     "output_type": "stream",
     "text": [
      "Average Fit Time : 0.053290939331054686\n",
      "Average Score Time : 0.0028020858764648436\n",
      "Average Test Score : 0.9543083372147182\n"
     ]
    }
   ],
   "source": [
    "cross_val = cross_validate(\n",
    "    estimator=Dbagging_model,\n",
    "    X=cancer.data, y=cancer.target,\n",
    "    cv=cv\n",
    ")\n",
    "print('Average Fit Time : {}'.format(cross_val['fit_time'].mean()))\n",
    "print('Average Score Time : {}'.format(cross_val['score_time'].mean()))\n",
    "print('Average Test Score : {}'.format(cross_val['test_score'].mean()))"
   ]
  },
  {
   "cell_type": "markdown",
   "id": "b3e5ad88",
   "metadata": {},
   "source": [
    "Breast cancer 데이터에 DT 모델과 DT bagging모델 성능 비교\n",
    "\n"
   ]
  },
  {
   "cell_type": "markdown",
   "id": "1aa0f835",
   "metadata": {},
   "source": [
    "메모 :146 p == 시트 ex sheet\n",
    "classifier 평가"
   ]
  },
  {
   "cell_type": "code",
   "execution_count": 411,
   "id": "faa472f5",
   "metadata": {},
   "outputs": [],
   "source": [
    "from sklearn.model_selection import KFold\n",
    "\n",
    "california = fetch_california_housing()\n",
    "diabetes = load_diabetes()\n",
    "cv = KFold(n_splits=5, shuffle=True, random_state=42)"
   ]
  },
  {
   "cell_type": "code",
   "execution_count": 412,
   "id": "b41d67e4",
   "metadata": {},
   "outputs": [],
   "source": [
    "RB_model = make_pipeline(\n",
    "    StandardScaler(),\n",
    "    KNeighborsRegressor()\n",
    ")\n",
    "\n",
    "# BaggingRegressor 적용 (랜덤 시드 고정)\n",
    "Rbagging_model = BaggingRegressor(\n",
    "    estimator=RB_model,   # scikit-learn 1.2 이상은 estimator= 사용\n",
    "    n_estimators=10,\n",
    "    max_samples=0.3,\n",
    "    max_features=0.5,\n",
    "    random_state=42       # ✅ 결과 재현을 위한 시드 고정\n",
    ")"
   ]
  },
  {
   "cell_type": "code",
   "execution_count": 415,
   "id": "802e81a7",
   "metadata": {},
   "outputs": [
    {
     "name": "stdout",
     "output_type": "stream",
     "text": [
      "Average Fit Time : 0.02505044937133789\n",
      "Average Score Time : 0.12401742935180664\n",
      "Average Test Score : 0.6943842267279813\n"
     ]
    }
   ],
   "source": [
    "cross_val = cross_validate(\n",
    "    estimator=RB_model,\n",
    "    X=california.data, y=california.target,\n",
    "    cv=cv,\n",
    "    # scoring='r2'\n",
    ")\n",
    "print('Average Fit Time : {}'.format(cross_val['fit_time'].mean()))\n",
    "print('Average Score Time : {}'.format(cross_val['score_time'].mean()))\n",
    "print('Average Test Score : {}'.format(cross_val['test_score'].mean()))"
   ]
  },
  {
   "cell_type": "code",
   "execution_count": 416,
   "id": "9294ee89",
   "metadata": {},
   "outputs": [
    {
     "name": "stdout",
     "output_type": "stream",
     "text": [
      "Average Fit Time : 0.04282932281494141\n",
      "Average Score Time : 0.15039186477661132\n",
      "Average Test Score : 0.6477593226610676\n"
     ]
    }
   ],
   "source": [
    "cross_val = cross_validate(\n",
    "    estimator=Rbagging_model,\n",
    "    X=california.data, y=california.target,\n",
    "    cv=cv\n",
    ")\n",
    "print('Average Fit Time : {}'.format(cross_val['fit_time'].mean()))\n",
    "print('Average Score Time : {}'.format(cross_val['score_time'].mean()))\n",
    "print('Average Test Score : {}'.format(cross_val['test_score'].mean()))"
   ]
  },
  {
   "cell_type": "markdown",
   "id": "7e322752",
   "metadata": {},
   "source": [
    "캘리포니아 집값 데이터에 K Regressor과 K Regressor bagging으로 사용한 모델 성능"
   ]
  },
  {
   "cell_type": "code",
   "execution_count": 417,
   "id": "1de086a0",
   "metadata": {},
   "outputs": [
    {
     "name": "stdout",
     "output_type": "stream",
     "text": [
      "Average Fit Time : 0.001221036911010742\n",
      "Average Score Time : 0.0011582374572753906\n",
      "Average Test Score : 0.3911868529753047\n"
     ]
    }
   ],
   "source": [
    "cross_val = cross_validate(\n",
    "    estimator=RB_model,\n",
    "    X=diabetes.data, y=diabetes.target,\n",
    "    cv=cv,\n",
    "    # scoring='r2'\n",
    ")\n",
    "print('Average Fit Time : {}'.format(cross_val['fit_time'].mean()))\n",
    "print('Average Score Time : {}'.format(cross_val['score_time'].mean()))\n",
    "print('Average Test Score : {}'.format(cross_val['test_score'].mean()))"
   ]
  },
  {
   "cell_type": "code",
   "execution_count": 419,
   "id": "cf96ba4c",
   "metadata": {},
   "outputs": [
    {
     "name": "stdout",
     "output_type": "stream",
     "text": [
      "Average Fit Time : 0.014139318466186523\n",
      "Average Score Time : 0.007117128372192383\n",
      "Average Test Score : 0.3503727993851441\n"
     ]
    }
   ],
   "source": [
    "cross_val = cross_validate(\n",
    "    estimator=Rbagging_model,\n",
    "    X=diabetes.data, y=diabetes.target,\n",
    "    cv=cv,\n",
    "    # scoring='r2'\n",
    ")\n",
    "print('Average Fit Time : {}'.format(cross_val['fit_time'].mean()))\n",
    "print('Average Score Time : {}'.format(cross_val['score_time'].mean()))\n",
    "print('Average Test Score : {}'.format(cross_val['test_score'].mean()))"
   ]
  },
  {
   "cell_type": "markdown",
   "id": "3f6e7d9f",
   "metadata": {},
   "source": [
    "당뇨병 환자 데이터에 K Regressor과 K Regressor bagging으로 사용한 모델 성능"
   ]
  },
  {
   "cell_type": "code",
   "execution_count": 421,
   "id": "f767e056",
   "metadata": {},
   "outputs": [],
   "source": [
    "SVRB_model = make_pipeline(\n",
    "    StandardScaler(),\n",
    "    SVR()\n",
    ")\n",
    "\n",
    "SVRbagging_model = BaggingRegressor(\n",
    "    estimator=SVRB_model,   # scikit-learn 1.2 이상은 estimator= 사용\n",
    "    n_estimators=10,\n",
    "    max_samples=0.3,\n",
    "    max_features=0.5,\n",
    "    random_state=42       # ✅ 결과 재현을 위한 시드 고정\n",
    ")"
   ]
  },
  {
   "cell_type": "markdown",
   "id": "0719ba3e",
   "metadata": {},
   "source": [
    "## 캘리포니아 데이터에 SVR과 SVR bagging 모델 성능"
   ]
  },
  {
   "cell_type": "code",
   "execution_count": 427,
   "id": "313b7fdf",
   "metadata": {},
   "outputs": [
    {
     "name": "stdout",
     "output_type": "stream",
     "text": [
      "Average Fit Time : 4.323153162002564\n",
      "Average Score Time : 2.1704718112945556\n",
      "Average Test Score : 0.7416967825965254\n"
     ]
    }
   ],
   "source": [
    "cross_val = cross_validate(\n",
    "    estimator=SVRB_model,\n",
    "    X=california.data, y=california.target,\n",
    "    cv=cv,\n",
    "    # scoring='r2'\n",
    ")\n",
    "print('Average Fit Time : {}'.format(cross_val['fit_time'].mean()))\n",
    "print('Average Score Time : {}'.format(cross_val['score_time'].mean()))\n",
    "print('Average Test Score : {}'.format(cross_val['test_score'].mean()))"
   ]
  },
  {
   "cell_type": "code",
   "execution_count": 424,
   "id": "546b8a29",
   "metadata": {},
   "outputs": [
    {
     "name": "stdout",
     "output_type": "stream",
     "text": [
      "Average Fit Time : 4.3734033584594725\n",
      "Average Score Time : 7.413392782211304\n",
      "Average Test Score : 0.5882836247453677\n"
     ]
    }
   ],
   "source": [
    "cross_val = cross_validate(\n",
    "    estimator=SVRbagging_model,\n",
    "    X=california.data, y=california.target,\n",
    "    cv=cv,\n",
    "    # scoring='r2'\n",
    ")\n",
    "print('Average Fit Time : {}'.format(cross_val['fit_time'].mean()))\n",
    "print('Average Score Time : {}'.format(cross_val['score_time'].mean()))\n",
    "print('Average Test Score : {}'.format(cross_val['test_score'].mean()))"
   ]
  },
  {
   "cell_type": "markdown",
   "id": "e1775e63",
   "metadata": {},
   "source": [
    "캘리포니아 데이터에 SVR과 SVR bagging 모델 성능\n",
    "최적의 max sample, max feature를 확인하기 위해 다양하게 시도해 볼 필요가 있다 !!"
   ]
  },
  {
   "cell_type": "code",
   "execution_count": 490,
   "id": "9f6b2ef1",
   "metadata": {},
   "outputs": [
    {
     "name": "stdout",
     "output_type": "stream",
     "text": [
      "Average Fit Time : 0.006240940093994141\n",
      "Average Score Time : 0.0026159286499023438\n",
      "Average Test Score : 0.14923989651121472\n"
     ]
    }
   ],
   "source": [
    "cross_val = cross_validate(\n",
    "    estimator=SVRB_model,\n",
    "    X=diabetes.data, y=diabetes.target,\n",
    "    cv=cv,\n",
    "    # scoring='r2'\n",
    ")\n",
    "print('Average Fit Time : {}'.format(cross_val['fit_time'].mean()))\n",
    "print('Average Score Time : {}'.format(cross_val['score_time'].mean()))\n",
    "print('Average Test Score : {}'.format(cross_val['test_score'].mean()))"
   ]
  },
  {
   "cell_type": "code",
   "execution_count": 491,
   "id": "2dde452b",
   "metadata": {},
   "outputs": [
    {
     "name": "stdout",
     "output_type": "stream",
     "text": [
      "Average Fit Time : 0.01895427703857422\n",
      "Average Score Time : 0.006714582443237305\n",
      "Average Test Score : 0.013742250493232633\n"
     ]
    }
   ],
   "source": [
    "cross_val = cross_validate(\n",
    "    estimator=SVRbagging_model,\n",
    "    X=diabetes.data, y=diabetes.target,\n",
    "    cv=cv,\n",
    "    # scoring='r2'\n",
    ")\n",
    "print('Average Fit Time : {}'.format(cross_val['fit_time'].mean()))\n",
    "print('Average Score Time : {}'.format(cross_val['score_time'].mean()))\n",
    "print('Average Test Score : {}'.format(cross_val['test_score'].mean()))"
   ]
  },
  {
   "cell_type": "markdown",
   "id": "8d29edc3",
   "metadata": {},
   "source": [
    "당뇨병 데이터에 KNN Regressor과 KNN Regressor bagging 모델 성능 비교"
   ]
  },
  {
   "cell_type": "code",
   "execution_count": 429,
   "id": "a3d29271",
   "metadata": {},
   "outputs": [],
   "source": [
    "from sklearn.ensemble import RandomForestClassifier, ExtraTreesClassifier\n",
    "from sklearn.ensemble import RandomForestRegressor, ExtraTreesRegressor"
   ]
  },
  {
   "cell_type": "code",
   "execution_count": 430,
   "id": "44c82f08",
   "metadata": {},
   "outputs": [],
   "source": [
    "RF_model = make_pipeline(\n",
    "    StandardScaler(),\n",
    "    RandomForestClassifier()\n",
    ")"
   ]
  },
  {
   "cell_type": "code",
   "execution_count": 435,
   "id": "c7777b67",
   "metadata": {},
   "outputs": [
    {
     "name": "stdout",
     "output_type": "stream",
     "text": [
      "Average Fit Time : 0.07769198417663574\n",
      "Average Score Time : 0.0028145313262939453\n",
      "Average Test Score : 0.9533333333333335\n"
     ]
    }
   ],
   "source": [
    "cross_val = cross_validate(\n",
    "    estimator=RF_model,\n",
    "    X=iris.data,y=iris.target,\n",
    "    cv = cv_class\n",
    ")\n",
    "print('Average Fit Time : {}'.format(cross_val['fit_time'].mean()))\n",
    "print('Average Score Time : {}'.format(cross_val['score_time'].mean()))\n",
    "print('Average Test Score : {}'.format(cross_val['test_score'].mean()))"
   ]
  },
  {
   "cell_type": "markdown",
   "id": "eea66db3",
   "metadata": {},
   "source": [
    "붓꽃 데이터에 Random Forest 모델(RF_model) 성능 평가"
   ]
  },
  {
   "cell_type": "code",
   "execution_count": 436,
   "id": "e9ee836f",
   "metadata": {},
   "outputs": [
    {
     "name": "stdout",
     "output_type": "stream",
     "text": [
      "Average Fit Time : 0.0792398452758789\n",
      "Average Score Time : 0.0028304576873779295\n",
      "Average Test Score : 0.9830158730158731\n"
     ]
    }
   ],
   "source": [
    "cross_val = cross_validate(\n",
    "    estimator=RF_model,\n",
    "    X=wine.data,y=wine.target,\n",
    "    cv = cv_class\n",
    ")\n",
    "print('Average Fit Time : {}'.format(cross_val['fit_time'].mean()))\n",
    "print('Average Score Time : {}'.format(cross_val['score_time'].mean()))\n",
    "print('Average Test Score : {}'.format(cross_val['test_score'].mean()))"
   ]
  },
  {
   "cell_type": "markdown",
   "id": "f93ea219",
   "metadata": {},
   "source": [
    "와인 데이터에 Random Forest 모델(RF_model) 성능 평가"
   ]
  },
  {
   "cell_type": "code",
   "execution_count": 437,
   "id": "35e864b4",
   "metadata": {},
   "outputs": [
    {
     "name": "stdout",
     "output_type": "stream",
     "text": [
      "Average Fit Time : 0.12739291191101074\n",
      "Average Score Time : 0.004777717590332031\n",
      "Average Test Score : 0.9578326346840551\n"
     ]
    }
   ],
   "source": [
    "cross_val = cross_validate(\n",
    "    estimator=RF_model,\n",
    "    X=cancer.data,y=cancer.target,\n",
    "    cv = cv_class\n",
    ")\n",
    "print('Average Fit Time : {}'.format(cross_val['fit_time'].mean()))\n",
    "print('Average Score Time : {}'.format(cross_val['score_time'].mean()))\n",
    "print('Average Test Score : {}'.format(cross_val['test_score'].mean()))"
   ]
  },
  {
   "cell_type": "markdown",
   "id": "0b6b8b72",
   "metadata": {},
   "source": [
    "암환자 데이터에 Random Forest 모델(RF_model) 성능 평가"
   ]
  },
  {
   "cell_type": "code",
   "execution_count": 438,
   "id": "90bb644a",
   "metadata": {},
   "outputs": [],
   "source": [
    "RFR_model = make_pipeline(\n",
    "    StandardScaler(),\n",
    "    RandomForestRegressor()\n",
    ")"
   ]
  },
  {
   "cell_type": "code",
   "execution_count": 439,
   "id": "b4d7869c",
   "metadata": {},
   "outputs": [
    {
     "name": "stdout",
     "output_type": "stream",
     "text": [
      "Average Fit Time : 10.27406735420227\n",
      "Average Score Time : 0.06719179153442383\n",
      "Average Test Score : 0.8098968944839353\n"
     ]
    }
   ],
   "source": [
    "cross_val = cross_validate(\n",
    "    estimator=RFR_model,\n",
    "    X=california.data,y=california.target,\n",
    "    cv = cv\n",
    ")\n",
    "print('Average Fit Time : {}'.format(cross_val['fit_time'].mean()))\n",
    "print('Average Score Time : {}'.format(cross_val['score_time'].mean()))\n",
    "print('Average Test Score : {}'.format(cross_val['test_score'].mean()))"
   ]
  },
  {
   "cell_type": "markdown",
   "id": "9f6ded63",
   "metadata": {},
   "source": [
    "캘리포니아 데이터에 Random Forest 모델(RFR_model) 성능 평가"
   ]
  },
  {
   "cell_type": "code",
   "execution_count": 440,
   "id": "dd9888bd",
   "metadata": {},
   "outputs": [
    {
     "name": "stdout",
     "output_type": "stream",
     "text": [
      "Average Fit Time : 0.17724184989929198\n",
      "Average Score Time : 0.004556703567504883\n",
      "Average Test Score : 0.4247331847215346\n"
     ]
    }
   ],
   "source": [
    "cross_val = cross_validate(\n",
    "    estimator=RFR_model,\n",
    "    X=diabetes.data,y=diabetes.target,\n",
    "    cv = cv\n",
    ")\n",
    "print('Average Fit Time : {}'.format(cross_val['fit_time'].mean()))\n",
    "print('Average Score Time : {}'.format(cross_val['score_time'].mean()))\n",
    "print('Average Test Score : {}'.format(cross_val['test_score'].mean()))"
   ]
  },
  {
   "cell_type": "markdown",
   "id": "759cc0dd",
   "metadata": {},
   "source": [
    "당뇨병 데이터에 Random Forest 모델(RFR_model) 성능 평가"
   ]
  },
  {
   "cell_type": "code",
   "execution_count": 441,
   "id": "df09e45b",
   "metadata": {},
   "outputs": [],
   "source": [
    "ETC_model = make_pipeline(\n",
    "    StandardScaler(),\n",
    "    ExtraTreesClassifier()\n",
    ")"
   ]
  },
  {
   "cell_type": "code",
   "execution_count": 442,
   "id": "d3a26f12",
   "metadata": {},
   "outputs": [
    {
     "name": "stdout",
     "output_type": "stream",
     "text": [
      "Average Fit Time : 0.05056676864624023\n",
      "Average Score Time : 0.0036529064178466796\n",
      "Average Test Score : 0.9533333333333334\n"
     ]
    }
   ],
   "source": [
    "cross_val = cross_validate(\n",
    "    estimator=ETC_model,\n",
    "    X=iris.data,y=iris.target,\n",
    "    cv = cv_class\n",
    ")\n",
    "print('Average Fit Time : {}'.format(cross_val['fit_time'].mean()))\n",
    "print('Average Score Time : {}'.format(cross_val['score_time'].mean()))\n",
    "print('Average Test Score : {}'.format(cross_val['test_score'].mean()))"
   ]
  },
  {
   "cell_type": "markdown",
   "id": "94e7c6ba",
   "metadata": {},
   "source": [
    "붓꽃 데이터에 ExtraTree Classifier 모델(ETC_model) 성능 평가"
   ]
  },
  {
   "cell_type": "code",
   "execution_count": 443,
   "id": "1dc9490e",
   "metadata": {},
   "outputs": [
    {
     "name": "stdout",
     "output_type": "stream",
     "text": [
      "Average Fit Time : 0.053634262084960936\n",
      "Average Score Time : 0.0035541534423828127\n",
      "Average Test Score : 0.9887301587301588\n"
     ]
    }
   ],
   "source": [
    "cross_val = cross_validate(\n",
    "    estimator=ETC_model,\n",
    "    X=wine.data,y=wine.target,\n",
    "    cv = cv_class\n",
    ")\n",
    "print('Average Fit Time : {}'.format(cross_val['fit_time'].mean()))\n",
    "print('Average Score Time : {}'.format(cross_val['score_time'].mean()))\n",
    "print('Average Test Score : {}'.format(cross_val['test_score'].mean()))"
   ]
  },
  {
   "cell_type": "markdown",
   "id": "ee082e74",
   "metadata": {},
   "source": [
    "와인 데이터에 ExtraTree Classifier 모델(ETC_model) 성능 평가"
   ]
  },
  {
   "cell_type": "code",
   "execution_count": 444,
   "id": "3b2378a7",
   "metadata": {},
   "outputs": [
    {
     "name": "stdout",
     "output_type": "stream",
     "text": [
      "Average Fit Time : 0.06667866706848144\n",
      "Average Score Time : 0.004949808120727539\n",
      "Average Test Score : 0.9578481602235678\n"
     ]
    }
   ],
   "source": [
    "cross_val = cross_validate(\n",
    "    estimator=ETC_model,\n",
    "    X=cancer.data,y=cancer.target,\n",
    "    cv = cv_class\n",
    ")\n",
    "print('Average Fit Time : {}'.format(cross_val['fit_time'].mean()))\n",
    "print('Average Score Time : {}'.format(cross_val['score_time'].mean()))\n",
    "print('Average Test Score : {}'.format(cross_val['test_score'].mean()))"
   ]
  },
  {
   "cell_type": "markdown",
   "id": "21b953a5",
   "metadata": {},
   "source": [
    "Breast cancer 데이터에 ExtraTree Classifier 모델(ETC_model) 성능 평가"
   ]
  },
  {
   "cell_type": "code",
   "execution_count": 452,
   "id": "11201132",
   "metadata": {},
   "outputs": [],
   "source": [
    "ETR_model = make_pipeline(\n",
    "    StandardScaler(),\n",
    "    ExtraTreesRegressor(random_state=42)\n",
    ")"
   ]
  },
  {
   "cell_type": "code",
   "execution_count": 448,
   "id": "1f59a942",
   "metadata": {},
   "outputs": [],
   "source": [
    "from sklearn.model_selection import cross_validate,train_test_split\n",
    "\n",
    "X_train,X_test,y_train,y_test = train_test_split(california.data,california.target,train_size=0.3)"
   ]
  },
  {
   "cell_type": "code",
   "execution_count": 453,
   "id": "5e23739a",
   "metadata": {},
   "outputs": [
    {
     "name": "stdout",
     "output_type": "stream",
     "text": [
      "Average Fit Time : 3.2265881061553956\n",
      "Average Score Time : 0.09059343338012696\n",
      "Average Test Score : 0.8130330945033275\n"
     ]
    }
   ],
   "source": [
    "cross_val = cross_validate(\n",
    "    estimator=ETR_model,\n",
    "    X=california.data,y=california.target,\n",
    "    cv = cv\n",
    ")\n",
    "print('Average Fit Time : {}'.format(cross_val['fit_time'].mean()))\n",
    "print('Average Score Time : {}'.format(cross_val['score_time'].mean()))\n",
    "print('Average Test Score : {}'.format(cross_val['test_score'].mean()))"
   ]
  },
  {
   "cell_type": "markdown",
   "id": "476b841c",
   "metadata": {},
   "source": [
    "캘리포니아 데이터에 ExtraTree Regressor 모델(ETR_model) 환경 설정"
   ]
  },
  {
   "cell_type": "code",
   "execution_count": 454,
   "id": "68f28c3b",
   "metadata": {},
   "outputs": [
    {
     "name": "stdout",
     "output_type": "stream",
     "text": [
      "Average Fit Time : 0.11285271644592285\n",
      "Average Score Time : 0.005647802352905273\n",
      "Average Test Score : 0.4410110658497164\n"
     ]
    }
   ],
   "source": [
    "cross_val = cross_validate(\n",
    "    estimator=ETR_model,\n",
    "    X=diabetes.data,y=diabetes.target,\n",
    "    cv = cv\n",
    ")\n",
    "print('Average Fit Time : {}'.format(cross_val['fit_time'].mean()))\n",
    "print('Average Score Time : {}'.format(cross_val['score_time'].mean()))\n",
    "print('Average Test Score : {}'.format(cross_val['test_score'].mean()))"
   ]
  },
  {
   "cell_type": "markdown",
   "id": "a9ff8f5b",
   "metadata": {},
   "source": [
    "당뇨병 데이터에 ExtraTree Regressor 모델(ETR_model) 환경 설정s"
   ]
  },
  {
   "cell_type": "code",
   "execution_count": 455,
   "id": "7d3a4edc",
   "metadata": {},
   "outputs": [],
   "source": [
    "from sklearn.ensemble import AdaBoostClassifier\n",
    "from sklearn.ensemble import AdaBoostRegressor\n"
   ]
  },
  {
   "cell_type": "code",
   "execution_count": 456,
   "id": "8f2036bd",
   "metadata": {},
   "outputs": [],
   "source": [
    "ADA_model = make_pipeline(\n",
    "    StandardScaler(),\n",
    "    AdaBoostClassifier(random_state=42)\n",
    ")"
   ]
  },
  {
   "cell_type": "markdown",
   "id": "c69c33e5",
   "metadata": {},
   "source": [
    "ADA Boost Classifier 모델(ADA_model) 환경 설정"
   ]
  },
  {
   "cell_type": "code",
   "execution_count": 457,
   "id": "7726de18",
   "metadata": {},
   "outputs": [
    {
     "name": "stdout",
     "output_type": "stream",
     "text": [
      "Average Fit Time : 0.045699548721313474\n",
      "Average Score Time : 0.005293416976928711\n",
      "Average Test Score : 0.9600000000000002\n"
     ]
    }
   ],
   "source": [
    "cross_val = cross_validate(\n",
    "    estimator=ADA_model,\n",
    "    X=iris.data,y=iris.target,\n",
    "    cv = cv_class\n",
    ")\n",
    "print('Average Fit Time : {}'.format(cross_val['fit_time'].mean()))\n",
    "print('Average Score Time : {}'.format(cross_val['score_time'].mean()))\n",
    "print('Average Test Score : {}'.format(cross_val['test_score'].mean()))"
   ]
  },
  {
   "cell_type": "markdown",
   "id": "77e8cd72",
   "metadata": {},
   "source": [
    "붓꽃 데이터에 ADA Boost Classifier 모델(ADA_model) 환경 설정"
   ]
  },
  {
   "cell_type": "code",
   "execution_count": 458,
   "id": "f9cbd4dd",
   "metadata": {},
   "outputs": [
    {
     "name": "stdout",
     "output_type": "stream",
     "text": [
      "Average Fit Time : 0.05184836387634277\n",
      "Average Score Time : 0.004387760162353515\n",
      "Average Test Score : 0.9325396825396824\n"
     ]
    }
   ],
   "source": [
    "cross_val = cross_validate(\n",
    "    estimator=ADA_model,\n",
    "    X=wine.data,y=wine.target,\n",
    "    cv = cv_class\n",
    ")\n",
    "print('Average Fit Time : {}'.format(cross_val['fit_time'].mean()))\n",
    "print('Average Score Time : {}'.format(cross_val['score_time'].mean()))\n",
    "print('Average Test Score : {}'.format(cross_val['test_score'].mean()))"
   ]
  },
  {
   "cell_type": "markdown",
   "id": "3d005f57",
   "metadata": {},
   "source": [
    "와인 데이터에 ADA Boost Classifier 모델(ADA_model) 환경 설정"
   ]
  },
  {
   "cell_type": "code",
   "execution_count": 459,
   "id": "15354c72",
   "metadata": {},
   "outputs": [
    {
     "name": "stdout",
     "output_type": "stream",
     "text": [
      "Average Fit Time : 0.1106184482574463\n",
      "Average Score Time : 0.0047394752502441405\n",
      "Average Test Score : 0.9525384257102936\n"
     ]
    }
   ],
   "source": [
    "cross_val = cross_validate(\n",
    "    estimator=ADA_model,\n",
    "    X=cancer.data,y=cancer.target,\n",
    "    cv = cv_class\n",
    ")\n",
    "print('Average Fit Time : {}'.format(cross_val['fit_time'].mean()))\n",
    "print('Average Score Time : {}'.format(cross_val['score_time'].mean()))\n",
    "print('Average Test Score : {}'.format(cross_val['test_score'].mean()))"
   ]
  },
  {
   "cell_type": "markdown",
   "id": "d73f5251",
   "metadata": {},
   "source": [
    "Breast cancer 데이터에 ADA Boost Classifier 모델(ADA_model) 환경 설정"
   ]
  },
  {
   "cell_type": "code",
   "execution_count": 462,
   "id": "9d1cc6d7",
   "metadata": {},
   "outputs": [],
   "source": [
    "ADAR_model = make_pipeline(\n",
    "    StandardScaler(),\n",
    "    AdaBoostRegressor()\n",
    ")"
   ]
  },
  {
   "cell_type": "code",
   "execution_count": 463,
   "id": "dfaec464",
   "metadata": {},
   "outputs": [],
   "source": [
    "from sklearn.model_selection import cross_validate,train_test_split\n",
    "X_train,X_test,y_train,y_test = train_test_split(california.data,california.target,train_size=0.3)"
   ]
  },
  {
   "cell_type": "code",
   "execution_count": 466,
   "id": "7ae95168",
   "metadata": {},
   "outputs": [
    {
     "name": "stdout",
     "output_type": "stream",
     "text": [
      "Average Fit Time : 0.2068167209625244\n",
      "Average Score Time : 0.0067898273468017575\n",
      "Average Test Score : 0.4832757110024556\n"
     ]
    }
   ],
   "source": [
    "cross_val = cross_validate(\n",
    "    estimator=ADAR_model,\n",
    "    X=X_train,y=y_train,\n",
    "    cv = cv\n",
    ")\n",
    "print('Average Fit Time : {}'.format(cross_val['fit_time'].mean()))\n",
    "print('Average Score Time : {}'.format(cross_val['score_time'].mean()))\n",
    "print('Average Test Score : {}'.format(cross_val['test_score'].mean()))"
   ]
  },
  {
   "cell_type": "markdown",
   "id": "01e6a18b",
   "metadata": {},
   "source": [
    "캘리포니아 데이터에 ADA Boost Regressor 모델(ADAR_model) 성능 평가"
   ]
  },
  {
   "cell_type": "code",
   "execution_count": 468,
   "id": "3838d5ab",
   "metadata": {},
   "outputs": [
    {
     "name": "stdout",
     "output_type": "stream",
     "text": [
      "Average Fit Time : 0.05802726745605469\n",
      "Average Score Time : 0.0042725086212158205\n",
      "Average Test Score : 0.407198973390437\n"
     ]
    }
   ],
   "source": [
    "cross_val = cross_validate(\n",
    "    estimator=ADAR_model,\n",
    "    X=diabetes.data,y=diabetes.target,\n",
    "    cv = cv\n",
    ")\n",
    "print('Average Fit Time : {}'.format(cross_val['fit_time'].mean()))\n",
    "print('Average Score Time : {}'.format(cross_val['score_time'].mean()))\n",
    "print('Average Test Score : {}'.format(cross_val['test_score'].mean()))"
   ]
  },
  {
   "cell_type": "markdown",
   "id": "3009ad16",
   "metadata": {},
   "source": [
    "당뇨병 데이터에 ADA Boost Regressor 모델(ADAR_model) 성능 평가"
   ]
  },
  {
   "cell_type": "code",
   "execution_count": 469,
   "id": "2d1b71c2",
   "metadata": {},
   "outputs": [],
   "source": [
    "from sklearn.ensemble import GradientBoostingClassifier\n",
    "from sklearn.ensemble import GradientBoostingRegressor"
   ]
  },
  {
   "cell_type": "code",
   "execution_count": 470,
   "id": "f56d64e4",
   "metadata": {},
   "outputs": [],
   "source": [
    "GRAC_model = make_pipeline(\n",
    "    StandardScaler(),\n",
    "    GradientBoostingClassifier()\n",
    ")"
   ]
  },
  {
   "cell_type": "code",
   "execution_count": 471,
   "id": "98684df6",
   "metadata": {},
   "outputs": [
    {
     "name": "stdout",
     "output_type": "stream",
     "text": [
      "Average Fit Time : 0.13296284675598144\n",
      "Average Score Time : 0.00101318359375\n",
      "Average Test Score : 0.9533333333333335\n"
     ]
    }
   ],
   "source": [
    "cross_val = cross_validate(\n",
    "    estimator=GRAC_model,\n",
    "    X=iris.data,y=iris.target,\n",
    "    cv = cv\n",
    ")\n",
    "print('Average Fit Time : {}'.format(cross_val['fit_time'].mean()))\n",
    "print('Average Score Time : {}'.format(cross_val['score_time'].mean()))\n",
    "print('Average Test Score : {}'.format(cross_val['test_score'].mean()))"
   ]
  },
  {
   "cell_type": "markdown",
   "id": "cce077e8",
   "metadata": {},
   "source": [
    "Gradient Boosting Classifier 모델(GRAC_model) 환경 구성 및 성능평가(붓꽃)"
   ]
  },
  {
   "cell_type": "code",
   "execution_count": 472,
   "id": "9196d03d",
   "metadata": {},
   "outputs": [
    {
     "name": "stdout",
     "output_type": "stream",
     "text": [
      "Average Fit Time : 0.2392033576965332\n",
      "Average Score Time : 0.0013892650604248047\n",
      "Average Test Score : 0.943968253968254\n"
     ]
    }
   ],
   "source": [
    "cross_val = cross_validate(\n",
    "    estimator=GRAC_model,\n",
    "    X=wine.data,y=wine.target,\n",
    "    cv = cv\n",
    ")\n",
    "print('Average Fit Time : {}'.format(cross_val['fit_time'].mean()))\n",
    "print('Average Score Time : {}'.format(cross_val['score_time'].mean()))\n",
    "print('Average Test Score : {}'.format(cross_val['test_score'].mean()))"
   ]
  },
  {
   "cell_type": "code",
   "execution_count": 473,
   "id": "362627ca",
   "metadata": {},
   "outputs": [
    {
     "name": "stdout",
     "output_type": "stream",
     "text": [
      "Average Fit Time : 0.3915766716003418\n",
      "Average Score Time : 0.0010726451873779297\n",
      "Average Test Score : 0.9630957925787922\n"
     ]
    }
   ],
   "source": [
    "cross_val = cross_validate(\n",
    "    estimator=GRAC_model,\n",
    "    X=cancer.data,y=cancer.target,\n",
    "    cv = cv\n",
    ")\n",
    "print('Average Fit Time : {}'.format(cross_val['fit_time'].mean()))\n",
    "print('Average Score Time : {}'.format(cross_val['score_time'].mean()))\n",
    "print('Average Test Score : {}'.format(cross_val['test_score'].mean()))"
   ]
  },
  {
   "cell_type": "markdown",
   "id": "591f3ecf",
   "metadata": {},
   "source": [
    "Gradient Boosting Classifier 모델(GRAC_model) 성능평가(와인, Breast cancer )"
   ]
  },
  {
   "cell_type": "code",
   "execution_count": 474,
   "id": "ed0f4df0",
   "metadata": {},
   "outputs": [],
   "source": [
    "GRAR_model = make_pipeline(\n",
    "    StandardScaler(),\n",
    "    GradientBoostingRegressor(random_state=42)\n",
    ")"
   ]
  },
  {
   "cell_type": "markdown",
   "id": "80f2ea9b",
   "metadata": {},
   "source": [
    "Gradient Boosting Regressor 모델(GRAR_model) 환경 구성"
   ]
  },
  {
   "cell_type": "code",
   "execution_count": 476,
   "id": "1ddc8294",
   "metadata": {},
   "outputs": [
    {
     "name": "stdout",
     "output_type": "stream",
     "text": [
      "Average Fit Time : 0.9308309078216552\n",
      "Average Score Time : 0.0015923023223876954\n",
      "Average Test Score : 0.7702417375005852\n"
     ]
    }
   ],
   "source": [
    "cross_val = cross_validate(\n",
    "    estimator=GRAR_model,\n",
    "    X=X_train,y=y_train,\n",
    "    cv = cv\n",
    ")\n",
    "print('Average Fit Time : {}'.format(cross_val['fit_time'].mean()))\n",
    "print('Average Score Time : {}'.format(cross_val['score_time'].mean()))\n",
    "print('Average Test Score : {}'.format(cross_val['test_score'].mean()))"
   ]
  },
  {
   "cell_type": "markdown",
   "id": "f048fc13",
   "metadata": {},
   "source": [
    "캘리포니아 데이터에 Gradient Boosting Regressor 모델(GRAR_model) 성능 평가"
   ]
  },
  {
   "cell_type": "code",
   "execution_count": 479,
   "id": "207a9725",
   "metadata": {},
   "outputs": [
    {
     "name": "stdout",
     "output_type": "stream",
     "text": [
      "Average Fit Time : 0.07681570053100586\n",
      "Average Score Time : 0.0010201454162597657\n",
      "Average Test Score : 0.4134454312505166\n"
     ]
    }
   ],
   "source": [
    "cross_val = cross_validate(\n",
    "    estimator=GRAR_model,\n",
    "    X=diabetes.data,y=diabetes.target,\n",
    "    cv = cv\n",
    ")\n",
    "print('Average Fit Time : {}'.format(cross_val['fit_time'].mean()))\n",
    "print('Average Score Time : {}'.format(cross_val['score_time'].mean()))\n",
    "print('Average Test Score : {}'.format(cross_val['test_score'].mean()))"
   ]
  },
  {
   "cell_type": "markdown",
   "id": "f2deaca6",
   "metadata": {},
   "source": [
    "당뇨병 데이터에 Gradient Boosting Regressor 모델(GRAR_model) 성능 평가"
   ]
  },
  {
   "cell_type": "code",
   "execution_count": 481,
   "id": "df27a4a1",
   "metadata": {},
   "outputs": [],
   "source": [
    "from sklearn.svm import SVC\n",
    "from sklearn.tree import DecisionTreeClassifier\n",
    "from sklearn.neighbors import KNeighborsClassifier\n",
    "from sklearn.ensemble import RandomForestClassifier\n",
    "from sklearn.ensemble import VotingClassifier\n",
    "from sklearn.model_selection import cross_val_score\n"
   ]
  },
  {
   "cell_type": "markdown",
   "id": "baa1e682",
   "metadata": {},
   "source": [
    "Ensemble voting을 위한 환경 설정\n",
    "Hard voting : 각 모델의 예측 결과 중 가장 많은 표를 얻은 클래스를 최종 예측으로 선택\n",
    "Soft voting : 모델들의 예측 확률 값을 고려하여 최종 예측 결과를 도출"
   ]
  },
  {
   "cell_type": "code",
   "execution_count": 482,
   "id": "c9864d53",
   "metadata": {},
   "outputs": [],
   "source": [
    "model_s = SVC()\n",
    "model_d = DecisionTreeClassifier()\n",
    "model_r = RandomForestClassifier()\n",
    "\n",
    "voting_model = VotingClassifier(\n",
    "    estimators=[('svc', model_s), ('DecisionTree', model_d), ('RF', model_r)],\n",
    "    voting='hard'\n",
    ")\n"
   ]
  },
  {
   "cell_type": "code",
   "execution_count": 486,
   "id": "0e55693f",
   "metadata": {},
   "outputs": [
    {
     "name": "stdout",
     "output_type": "stream",
     "text": [
      "Accuracy : 0.97 [SVC]\n",
      "Accuracy : 0.97 [DecisionTreeClassifier]\n",
      "Accuracy : 0.96 [RandomForestClassifier]\n",
      "Accuracy : 0.97 [VotingClassifier]\n"
     ]
    }
   ],
   "source": [
    "for model in (model_s, model_d, model_r, voting_model):\n",
    "    model_name = str(type(model)).split('.')[-1][:-2]\n",
    "    scores = cross_val_score(model, iris.data, iris.target, cv=5)\n",
    "    print('Accuracy : %0.2f [%s]' % (scores.mean(), model_name))\n"
   ]
  },
  {
   "cell_type": "markdown",
   "id": "4740ac3e",
   "metadata": {},
   "source": [
    "Hard voting 기준시 다수결로 모델 선정"
   ]
  },
  {
   "cell_type": "code",
   "execution_count": 487,
   "id": "c4f4b4f7",
   "metadata": {},
   "outputs": [
    {
     "data": {
      "text/plain": [
       "\"SVC'>\""
      ]
     },
     "execution_count": 487,
     "metadata": {},
     "output_type": "execute_result"
    }
   ],
   "source": [
    "type(SVC())  \n",
    "# 모델의 클래스 타입을 문자열로 변환\n",
    "# 출력: <class 'sklearn.svm._classes.SVC'>\n",
    "\n",
    "str(type(SVC())).split('.')  \n",
    "# '.(점)'을 기준으로 나눠 리스트로 반환\n",
    "# 출력: [\"<class 'sklearn'\", 'svm', '_classes', \"SVC'>\"]\n",
    "\n",
    "str(type(SVC())).split('.')[-1]  \n",
    "# 리스트에서 마지막 요소 (클래스 이름 포함\n"
   ]
  },
  {
   "cell_type": "code",
   "execution_count": 488,
   "id": "27b22efc",
   "metadata": {},
   "outputs": [],
   "source": [
    "model_s = SVC(probability=True)  # 가중치 예측 확률 계산 가능하도록 설정\n",
    "model_d = DecisionTreeClassifier()\n",
    "model_r = RandomForestClassifier()\n",
    "\n",
    "voting_model = VotingClassifier(\n",
    "    estimators=[('svc', model_s), ('DecisionTree', model_d), ('forest', model_r)],\n",
    "    voting='soft',\n",
    "    weights=[1, 1, 5]  # 평균 시 각 모델에 대한 가중치 부여\n",
    ")\n"
   ]
  },
  {
   "cell_type": "code",
   "execution_count": 489,
   "id": "dc23b631",
   "metadata": {},
   "outputs": [
    {
     "name": "stdout",
     "output_type": "stream",
     "text": [
      "Accuracy : 0.97 [SVC]\n",
      "Accuracy : 0.96 [DecisionTreeClassifier]\n",
      "Accuracy : 0.96 [RandomForestClassifier]\n",
      "Accuracy : 0.97 [VotingClassifier]\n"
     ]
    }
   ],
   "source": [
    "for model in (model_s, model_d, model_r, voting_model):\n",
    "    model_name = str(type(model)).split('.')[-1][:-2]\n",
    "    scores = cross_val_score(model, iris.data, iris.target, cv=5)\n",
    "    print('Accuracy : %0.2f [%s]' % (scores.mean(), model_name))\n"
   ]
  },
  {
   "cell_type": "markdown",
   "id": "497c68e3",
   "metadata": {},
   "source": [
    "Soft voting 기준시 모델별 가중치를 부여하여 다수결로 모델 선정"
   ]
  }
 ],
 "metadata": {
  "kernelspec": {
   "display_name": "openai_api_part1",
   "language": "python",
   "name": "python3"
  },
  "language_info": {
   "codemirror_mode": {
    "name": "ipython",
    "version": 3
   },
   "file_extension": ".py",
   "mimetype": "text/x-python",
   "name": "python",
   "nbconvert_exporter": "python",
   "pygments_lexer": "ipython3",
   "version": "3.12.3"
  }
 },
 "nbformat": 4,
 "nbformat_minor": 5
}
