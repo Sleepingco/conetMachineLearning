{
 "cells": [
  {
   "cell_type": "code",
   "execution_count": null,
   "id": "0f49195d",
   "metadata": {},
   "outputs": [
    {
     "data": {
      "text/plain": [
       "openai._legacy_response.HttpxBinaryResponseContent"
      ]
     },
     "execution_count": 2,
     "metadata": {},
     "output_type": "execute_result"
    }
   ],
   "source": [
    "import openai\n",
    "from openai import OpenAI\n",
    "import os\n",
    "from dotenv import load_dotenv\n",
    "\n",
    "# 환경 변수 로드\n",
    "load_dotenv()\n",
    "api_key = os.getenv(\"OPENAI_API_KEY\")\n",
    "\n",
    "# OpenAI 클라이언트 초기화\n",
    "client = OpenAI(api_key=api_key)\n",
    "\n",
    "response = client.audio.speech.create(\n",
    "model=\"gpt-4o-mini-tts\",\n",
    "voice=\"coral\",\n",
    "input=\"안녕, 오늘은 정말 화창한 봄날이네요. 조금 더워요\",\n",
    "instructions=\"Speak in a cheerful and positive tone.\"\n",
    ")\n",
    "\n",
    "\n",
    "# response = client.audio.speech.create(\n",
    "#  model=..., # TTS 전용 모델\n",
    "# input=..., # 변환할 텍스트\n",
    "# voice=..., # 목소리 스타일\n",
    "# response_format=..., # 반환 형식 (선택)\n",
    "#  speed=..., # 재생 속도 조절 (선택)\n",
    "#  instructions=... # 말투/톤/감정 등 추가 지시 (선택, 일부 모델 전용)\n",
    "# )\n",
    "\n",
    "type(response)"
   ]
  },
  {
   "cell_type": "code",
   "execution_count": null,
   "id": "ad1f0fda",
   "metadata": {},
   "outputs": [
    {
     "name": "stdout",
     "output_type": "stream",
     "text": [
      " audio data size : 72192\n",
      " 'coral'음성으로 변환한 오디오 사이즈 : , 72192\n"
     ]
    }
   ],
   "source": [
    "audio_data = response.content\n",
    "print(f\" audio data size : {len(audio_data)}\")\n"
   ]
  },
  {
   "cell_type": "code",
   "execution_count": 4,
   "id": "1cde51b3",
   "metadata": {},
   "outputs": [
    {
     "name": "stdout",
     "output_type": "stream",
     "text": [
      " file save : output_onyx.mp3\n"
     ]
    }
   ],
   "source": [
    "output_path = \"output_onyx.mp3\"\n",
    "with open(output_path, \"wb\") as f:\n",
    " f.write(audio_data)\n",
    "print(f\" file save : {output_path}\")"
   ]
  },
  {
   "cell_type": "code",
   "execution_count": 5,
   "id": "5ae526e7",
   "metadata": {},
   "outputs": [
    {
     "name": "stderr",
     "output_type": "stream",
     "text": [
      "\n",
      "    Error 259 for command:\n",
      "        play \"c:\\VisualStudio-WorkSpace\\conetMachineLearning\\20250502\\openai_api_part1\\output_onyx.mp3\" wait\n",
      "    지정한 명령 매개 변수를 드라이버가 인식할 수 없습니다.\n"
     ]
    },
    {
     "ename": "PlaysoundException",
     "evalue": "\n    Error 259 for command:\n        play \"c:\\VisualStudio-WorkSpace\\conetMachineLearning\\20250502\\openai_api_part1\\output_onyx.mp3\" wait\n    지정한 명령 매개 변수를 드라이버가 인식할 수 없습니다.",
     "output_type": "error",
     "traceback": [
      "\u001b[31m---------------------------------------------------------------------------\u001b[39m",
      "\u001b[31mPlaysoundException\u001b[39m                        Traceback (most recent call last)",
      "\u001b[36mCell\u001b[39m\u001b[36m \u001b[39m\u001b[32mIn[5]\u001b[39m\u001b[32m, line 8\u001b[39m\n\u001b[32m      5\u001b[39m speech_file_path = Path.cwd() / \u001b[33m\"\u001b[39m\u001b[33moutput_onyx.mp3\u001b[39m\u001b[33m\"\u001b[39m\n\u001b[32m      7\u001b[39m \u001b[38;5;66;03m# 외부 스피커로 재생\u001b[39;00m\n\u001b[32m----> \u001b[39m\u001b[32m8\u001b[39m \u001b[43mplaysound\u001b[49m\u001b[43m(\u001b[49m\u001b[38;5;28;43mstr\u001b[39;49m\u001b[43m(\u001b[49m\u001b[43mspeech_file_path\u001b[49m\u001b[43m)\u001b[49m\u001b[43m)\u001b[49m\n",
      "\u001b[36mFile \u001b[39m\u001b[32mc:\\Users\\main\\miniconda3\\envs\\openai_api_part1\\Lib\\site-packages\\playsound.py:73\u001b[39m, in \u001b[36m_playsoundWin\u001b[39m\u001b[34m(sound, block)\u001b[39m\n\u001b[32m     71\u001b[39m     logger.debug(\u001b[33m'\u001b[39m\u001b[33mStarting\u001b[39m\u001b[33m'\u001b[39m)\n\u001b[32m     72\u001b[39m     winCommand(\u001b[33mu\u001b[39m\u001b[33m'\u001b[39m\u001b[33mopen \u001b[39m\u001b[38;5;132;01m{}\u001b[39;00m\u001b[33m'\u001b[39m.format(sound))\n\u001b[32m---> \u001b[39m\u001b[32m73\u001b[39m     \u001b[43mwinCommand\u001b[49m\u001b[43m(\u001b[49m\u001b[33;43mu\u001b[39;49m\u001b[33;43m'\u001b[39;49m\u001b[33;43mplay \u001b[39;49m\u001b[38;5;132;43;01m{}\u001b[39;49;00m\u001b[38;5;132;43;01m{}\u001b[39;49;00m\u001b[33;43m'\u001b[39;49m\u001b[43m.\u001b[49m\u001b[43mformat\u001b[49m\u001b[43m(\u001b[49m\u001b[43msound\u001b[49m\u001b[43m,\u001b[49m\u001b[43m \u001b[49m\u001b[33;43m'\u001b[39;49m\u001b[33;43m wait\u001b[39;49m\u001b[33;43m'\u001b[39;49m\u001b[43m \u001b[49m\u001b[38;5;28;43;01mif\u001b[39;49;00m\u001b[43m \u001b[49m\u001b[43mblock\u001b[49m\u001b[43m \u001b[49m\u001b[38;5;28;43;01melse\u001b[39;49;00m\u001b[43m \u001b[49m\u001b[33;43m'\u001b[39;49m\u001b[33;43m'\u001b[39;49m\u001b[43m)\u001b[49m\u001b[43m)\u001b[49m\n\u001b[32m     74\u001b[39m     logger.debug(\u001b[33m'\u001b[39m\u001b[33mReturning\u001b[39m\u001b[33m'\u001b[39m)\n\u001b[32m     75\u001b[39m \u001b[38;5;28;01mfinally\u001b[39;00m:\n",
      "\u001b[36mFile \u001b[39m\u001b[32mc:\\Users\\main\\miniconda3\\envs\\openai_api_part1\\Lib\\site-packages\\playsound.py:64\u001b[39m, in \u001b[36m_playsoundWin.<locals>.winCommand\u001b[39m\u001b[34m(*command)\u001b[39m\n\u001b[32m     60\u001b[39m     exceptionMessage = (\u001b[33m'\u001b[39m\u001b[38;5;130;01m\\n\u001b[39;00m\u001b[33m    Error \u001b[39m\u001b[33m'\u001b[39m + \u001b[38;5;28mstr\u001b[39m(errorCode) + \u001b[33m'\u001b[39m\u001b[33m for command:\u001b[39m\u001b[33m'\u001b[39m\n\u001b[32m     61\u001b[39m                         \u001b[33m'\u001b[39m\u001b[38;5;130;01m\\n\u001b[39;00m\u001b[33m        \u001b[39m\u001b[33m'\u001b[39m + command.decode(\u001b[33m'\u001b[39m\u001b[33mutf-16\u001b[39m\u001b[33m'\u001b[39m) +\n\u001b[32m     62\u001b[39m                         \u001b[33m'\u001b[39m\u001b[38;5;130;01m\\n\u001b[39;00m\u001b[33m    \u001b[39m\u001b[33m'\u001b[39m + errorBuffer.raw.decode(\u001b[33m'\u001b[39m\u001b[33mutf-16\u001b[39m\u001b[33m'\u001b[39m).rstrip(\u001b[33m'\u001b[39m\u001b[38;5;130;01m\\0\u001b[39;00m\u001b[33m'\u001b[39m))\n\u001b[32m     63\u001b[39m     logger.error(exceptionMessage)\n\u001b[32m---> \u001b[39m\u001b[32m64\u001b[39m     \u001b[38;5;28;01mraise\u001b[39;00m PlaysoundException(exceptionMessage)\n\u001b[32m     65\u001b[39m \u001b[38;5;28;01mreturn\u001b[39;00m buf.value\n",
      "\u001b[31mPlaysoundException\u001b[39m: \n    Error 259 for command:\n        play \"c:\\VisualStudio-WorkSpace\\conetMachineLearning\\20250502\\openai_api_part1\\output_onyx.mp3\" wait\n    지정한 명령 매개 변수를 드라이버가 인식할 수 없습니다."
     ]
    }
   ],
   "source": [
    "from playsound import playsound # 외부 스피커 재생\n",
    "from pathlib import Path\n",
    "\n",
    "# 파일 경로 설정\n",
    "speech_file_path = Path.cwd() / \"output_onyx.mp3\"\n",
    "\n",
    "# 외부 스피커로 재생\n",
    "playsound(str(speech_file_path))"
   ]
  },
  {
   "cell_type": "code",
   "execution_count": 8,
   "id": "98ae5b31",
   "metadata": {},
   "outputs": [
    {
     "name": "stdout",
     "output_type": "stream",
     "text": [
      "오디오 파일 저장 완료: c:\\VisualStudio-WorkSpace\\conetMachineLearning\\20250502\\openai_api_part1\\output_onyx.mp3\n",
      "재생 완료 및 파일 해제\n"
     ]
    }
   ],
   "source": [
    "import pygame\n",
    "import time\n",
    "\n",
    "try:\n",
    " pygame.mixer.music.unload()\n",
    "except:\n",
    " pass # 첫 실행 시에는 unload 대상이 없음\n",
    "\n",
    "print(f\"오디오 파일 저장 완료: {speech_file_path}\")\n",
    "# 오디오 재생\n",
    "pygame.init()\n",
    "pygame.mixer.init()\n",
    "pygame.mixer.music.load(str(speech_file_path))\n",
    "pygame.mixer.music.play()\n",
    "# 끝날 때까지 대기\n",
    "while pygame.mixer.music.get_busy():\n",
    " time.sleep(0.5)\n",
    "# 명시적 언로드\n",
    "pygame.mixer.music.unload()\n",
    "print(\"재생 완료 및 파일 해제\")\n"
   ]
  }
 ],
 "metadata": {
  "kernelspec": {
   "display_name": "openai_api_part1",
   "language": "python",
   "name": "python3"
  },
  "language_info": {
   "codemirror_mode": {
    "name": "ipython",
    "version": 3
   },
   "file_extension": ".py",
   "mimetype": "text/x-python",
   "name": "python",
   "nbconvert_exporter": "python",
   "pygments_lexer": "ipython3",
   "version": "3.12.3"
  }
 },
 "nbformat": 4,
 "nbformat_minor": 5
}
