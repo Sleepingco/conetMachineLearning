{
 "cells": [
  {
   "cell_type": "markdown",
   "id": "63aecf61",
   "metadata": {},
   "source": [
    "아이콘 만들어 주는 인공지능, 테서렉트, 엠리스트"
   ]
  },
  {
   "cell_type": "code",
   "execution_count": 2,
   "id": "54acffce",
   "metadata": {},
   "outputs": [],
   "source": [
    "import os\n",
    "from dotenv import load_dotenv\n",
    "import openai\n",
    "#.env 파일 로드하여 환경 변수 설정\n",
    "load_dotenv()\n",
    "api_key = os.getenv(\"OPENAI_API_KEY\")\n",
    "# OpenAI 클라이언트 인스턴스 생성\n",
    "client = openai.OpenAI(api_key=api_key)"
   ]
  },
  {
   "cell_type": "code",
   "execution_count": 3,
   "id": "aebc7bbf",
   "metadata": {},
   "outputs": [
    {
     "name": "stdout",
     "output_type": "stream",
     "text": [
      "https://oaidalleapiprodscus.blob.core.windows.net/private/org-P6RlryLmADspKaNkP5oLQPRA/user-tnkauAZPb5cZ9JXtpJqDZH7K/img-aYqrjGqIF45kTWIZPABVNruV.png?st=2025-05-02T07%3A04%3A26Z&se=2025-05-02T09%3A04%3A26Z&sp=r&sv=2024-08-04&sr=b&rscd=inline&rsct=image/png&skoid=8b33a531-2df9-46a3-bc02-d4b1430a422c&sktid=a48cca56-e6da-484e-a814-9c849652bcb3&skt=2025-05-01T22%3A59%3A35Z&ske=2025-05-02T22%3A59%3A35Z&sks=b&skv=2024-08-04&sig=NiQGAI2YewaKmgjXacmgwJRY7I/vgFFXjtGzFPEN4/s%3D\n"
     ]
    }
   ],
   "source": [
    "response = client.images.generate(\n",
    "    model=\"dall-e-3\",\n",
    "    prompt=\"a cute black cat drinking coffee in a cafe\",\n",
    "    size=\"1024x1024\",\n",
    "    quality=\"standard\",\n",
    "    n=1\n",
    ")\n",
    "# 결과 추출\n",
    "image_url = response.data[0].url\n",
    "print(image_url)"
   ]
  },
  {
   "cell_type": "code",
   "execution_count": null,
   "id": "35ee1e36",
   "metadata": {},
   "outputs": [],
   "source": [
    "response = client.images.generate(\n",
    "    prompt=prompt_text,\n",
    "    n=1,\n",
    "    size=\"1024x1024\",\n",
    "    model=\"dall-e-3\",\n",
    "    quality=\"standard\",\n",
    "    style=\"vivid\"\n",
    ")\n",
    "#DALL-E 3 모델 사용\n",
    "# 또는 \"hd\"로 고품질 생성\n",
    "#또는 \"natural\"로 자연스러운 톤 생성\n",
    "image_url = response.data[0].url\n",
    "print(image_url)"
   ]
  },
  {
   "cell_type": "code",
   "execution_count": null,
   "id": "f9053430",
   "metadata": {},
   "outputs": [],
   "source": [
    "#1. 사용자 입력 (짧은 문장)\n",
    "user_prompt = \"도서관에서 책을 읽는 소녀\"\n",
    "#2. GPT에게 프롬프트 리라이팅 요청\n",
    "rewrite_prompt = client.chat.completions.create(\n",
    "model=\"gpt-4\",\n",
    "messages=[\n",
    "            {\n",
    "                \"role\": \"system\",\n",
    "                \"content\": \"You are an expert in visual storytelling. Expand and rewrite user prompts into vivid, detailed image prompts for an AI image generator.\"\n",
    "            },\n",
    "            {\n",
    "                \"role\": \"user\",\n",
    "                \"content\": f\"Rewrite this for an image generation model: '{user_prompt}'\"\n",
    "            }\n",
    "        ],\n",
    "        temperature=0.7\n",
    ")"
   ]
  },
  {
   "cell_type": "code",
   "execution_count": null,
   "id": "a36638aa",
   "metadata": {},
   "outputs": [],
   "source": [
    "#3. GPT가 리라이팅한 프롬프트 꺼내기\n",
    "dalle_prompt = rewrite_prompt.choices[0].message.content.strip()\n",
    "print(\" GPT 리라이팅 프롬프트:\\n\", dalle_prompt)\n",
    "# 4. DALLE 3로 이미지 생성\n",
    "image_response = client.images.generate(\n",
    "    model=\"dall-e-3\",\n",
    "    prompt=dalle_prompt,\n",
    "    size=\"1024x1024\",\n",
    "    quality=\"standard\",\n",
    "    style=\"natural\", # 또는 \"vivid\"\n",
    "    n=1\n",
    ")\n",
    "#5. 결과 이미지 URL 출력\n",
    "image_url = image_response.data[0].url\n",
    "print(\"\\n 생성된 이미지 URL:\\n\", image_url)"
   ]
  }
 ],
 "metadata": {
  "kernelspec": {
   "display_name": "openai_api_part1",
   "language": "python",
   "name": "python3"
  },
  "language_info": {
   "codemirror_mode": {
    "name": "ipython",
    "version": 3
   },
   "file_extension": ".py",
   "mimetype": "text/x-python",
   "name": "python",
   "nbconvert_exporter": "python",
   "pygments_lexer": "ipython3",
   "version": "3.12.3"
  }
 },
 "nbformat": 4,
 "nbformat_minor": 5
}
