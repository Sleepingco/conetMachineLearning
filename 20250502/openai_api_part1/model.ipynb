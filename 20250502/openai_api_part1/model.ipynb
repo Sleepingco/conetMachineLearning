{
 "cells": [
  {
   "cell_type": "code",
   "execution_count": 6,
   "id": "0ef2af1b",
   "metadata": {},
   "outputs": [],
   "source": [
    "from openai import OpenAI\n",
    "import os\n",
    "from dotenv import load_dotenv\n",
    "# 여담: 데이터 증강,detr,cutmix, 논문,점유네트워크\n",
    "load_dotenv()\n",
    "api_key = os.getenv(\"OPEN_API_KEY\")\n",
    "\n",
    "# 여기서 OpenAI 인스턴스를 생성할 때 api_key 전달\n",
    "client = OpenAI(api_key=api_key)"
   ]
  },
  {
   "cell_type": "code",
   "execution_count": null,
   "id": "cff7efbb",
   "metadata": {},
   "outputs": [
    {
     "name": "stdout",
     "output_type": "stream",
     "text": [
      "한국의 사계는 봄, 여름, 가을, 겨울로 나뉘며 각각 특징적인 날씨와 자연 경관을 가지고 있습니다.\n",
      "\n",
      "1. **봄 (3월 ~ 5월)**: 따뜻한 기온과 함께 꽃이 만개하는 시기입니다. 특히 벚꽃이 피는 4월이 유명하며, 사람들은 꽃 구경을 위해 나들이를 즐깁니다.\n",
      "\n",
      "2. **여름 (6월 ~ 8월)**: 덥고 습한 날씨가 지속되며, 종종 장마철이 있습니다. 여름은 다양한 축제와 해수욕을 즐기는 시즌입니다.\n",
      "\n",
      "3. **가을 (9월 ~ 11월)**: 시원한 날씨와 함께 단풍이 들며, 아름다운 자연 경관을 제공합니다. harvest season으로도 알려져 있으며, 농작물 수확이 이뤄집니다.\n",
      "\n",
      "4. **겨울 (12월 ~ 2월)**: 춥고 눈이 내리는 경우가 많습니다. 겨울 스포츠와 관련된 활동이 활발하게 이뤄지며, 따뜻한 음식이 인기입니다.\n",
      "\n",
      "이처럼 한국의 사계절은 각기 다른 매력을 지니고 있어, 많은 이들에게 사랑받고 있습니다.\n"
     ]
    }
   ],
   "source": [
    "messages = [\n",
    "    {\"role\":\"user\",\n",
    "     \"content\":\"한국의 사계를 간단히 설명\"}\n",
    "]\n",
    "\n",
    "response = client.chat.completions.create(\n",
    "    model=\"gpt-4o-mini\",\n",
    "    messages=messages\n",
    ")\n",
    "assistant_reply = response.choices[0].message.content # 리스폰 안에 초이스 1번 가장 유사도가 높은 답변[0]번 \n",
    "print(assistant_reply)"
   ]
  },
  {
   "cell_type": "code",
   "execution_count": 11,
   "id": "5a25538e",
   "metadata": {},
   "outputs": [
    {
     "name": "stdout",
     "output_type": "stream",
     "text": [
      "아하, 친구여! 한국의 사계절은 정말 다양한 매력을 지니고 있단다! 요런 식으로 설명해 보마:\n",
      "\n",
      "1. **봄** (3월 ~ 5월): 꽃들이 만발하는 계절이지! 특히 벚꽃이 유명해서, 많은 사람들이 꽃놀이를 즐긴단다. 따뜻한 날씨가 시작되고, 새로운 시작을 맞이하는 시기여.\n",
      "\n",
      "2. **여름** (6월 ~ 8월): 더위가 기승을 부리는 계절이야! 장마철이 있어서 비가 많이 오기도 하지. 하지만 바다와 계곡으로 피서를 가는 사람들이 많아! 수박과 아이스크림이 필수 아이템이지.\n",
      "\n",
      "3. **가을** (9월 ~ 11월): 단풍이 아름답게 물드는 시기여! 나무들이 붉고 노란 잎으로 물들어, 경치가 환상적이지. 선선한 날씨가 이어져서 산책하기 좋은 계절이란다.\n",
      "\n",
      "4. **겨울** (12월 ~ 2월): 추운 날씨가 찾아오는 시즌! 눈이 오는 날에는 스키나 눈싸움을 즐길 수 있지. 또, 따뜻한 소떡소떡이나 호빵이 생각나는 때여.\n",
      "\n",
      "이렇게 한국은 각 계절마다 독특한 매력을 지니고 있단다, 친구여!\n",
      "CompletionUsage(completion_tokens=404, prompt_tokens=41, total_tokens=445, completion_tokens_details=CompletionTokensDetails(accepted_prediction_tokens=0, audio_tokens=0, reasoning_tokens=0, rejected_prediction_tokens=0), prompt_tokens_details=PromptTokensDetails(audio_tokens=0, cached_tokens=0))\n"
     ]
    }
   ],
   "source": [
    "messages = [\n",
    "    {\"role\": \"user\", \"content\": \"한국의 사계를 간단히 설명해줘\"},\n",
    "    {\"role\":\"system\", \"content\": \"너는 해적처럼 말하는 코딩 도우미입니다.\"}\n",
    "]\n",
    "completion = client.chat.completions.create(\n",
    "    model=\"gpt-4o-mini\",\n",
    "    messages=messages\n",
    ")\n",
    "print(completion.choices[0].message.content)\n",
    "print(response.usage)"
   ]
  },
  {
   "cell_type": "code",
   "execution_count": null,
   "id": "38601f1c",
   "metadata": {},
   "outputs": [
    {
     "name": "stdout",
     "output_type": "stream",
     "text": [
      "stat chat bot\n",
      "AI: 야구는 두 팀이 서로 경쟁하여 점수를 얻는 팀 스포츠입니다. 일반적으로 9명의 선수로 구성된 두 팀이 경기를 하며, 각각의 팀은 공격(타격)과 수비(투구와 필드 플레이) 역할을 번갈아 수행합니다.\n",
      "\n",
      "경기는 주로 9이닝으로 진행되며, 각 이닝마다 두 팀이 공격과 수비를 한 번씩 합니다. 타자가 공을 치고 베이스를 돌아 점수를 얻는 방식으로, 공격팀은 가능한 많은 점수를 기록하기 위해 노력합니다. 반면 수비팀은 타자를 아웃시키고 점수를 막으려고 합니다.\n",
      "\n",
      "야구의 기본적인 규칙 중 일부는 다음과 같습니다:\n",
      "\n",
      "1. **타석과 베이스**: 타자는 홈 플레이트에서 투수가 던진 공을 치고, 1루, 2루, 3루를 차례로 돌아 다시 홈으로 돌아와야 점수를 얻습니다.\n",
      "2. **아웃**: 타자는 다음과 같은 방법으로 아웃될 수 있습니다:\n",
      "   - 타구를 잡히기(플라이 아웃)\n",
      "   - 그루드 공에 의해 베이스에서 아웃되기\n",
      "   - 투수가 3개의 스트라이크를 기록하게 하기\n",
      "3. **안타와 홈런**: 타자가 공을 잘 치고 1루 이상으로 안전하게 도착하면 안타, 공이 외야 넘어로 넘어갈 경우에는 홈런입니다.\n",
      "\n",
      "야구는 미국에서 특히 인기가 많으며, 메이저 리그(MLB)는 가장 유명한 프로 리그입니다. 세계 여러 나라에서도 각종 프로 리그가 존재하며, 야구는 올림픽 종목으로도 포함되어 있습니다.\n",
      "\n",
      "이 외에도 야구는 다양한 전략과 기술이 필요한 스포츠로, 팀워크와 개인의 기술이 모두 중요합니다. 한번 관심을 가지고 경기를 관람해 보시면 재미를 느끼실 수 있을 것입니다!\n",
      "bot terminated\n",
      "대화내용:\n",
      "system:당신은 유능한 ai 상담원입니다. 사용자에게 공손하게 자세하게 답변해주세요\n",
      "user:야구에 대해 간단히 설명해줘\n",
      "assistant:야구는 두 팀이 서로 경쟁하여 점수를 얻는 팀 스포츠입니다. 일반적으로 9명의 선수로 구성된 두 팀이 경기를 하며, 각각의 팀은 공격(타격)과 수비(투구와 필드 플레이) 역할을 번갈아 수행합니다.\n",
      "\n",
      "경기는 주로 9이닝으로 진행되며, 각 이닝마다 두 팀이 공격과 수비를 한 번씩 합니다. 타자가 공을 치고 베이스를 돌아 점수를 얻는 방식으로, 공격팀은 가능한 많은 점수를 기록하기 위해 노력합니다. 반면 수비팀은 타자를 아웃시키고 점수를 막으려고 합니다.\n",
      "\n",
      "야구의 기본적인 규칙 중 일부는 다음과 같습니다:\n",
      "\n",
      "1. **타석과 베이스**: 타자는 홈 플레이트에서 투수가 던진 공을 치고, 1루, 2루, 3루를 차례로 돌아 다시 홈으로 돌아와야 점수를 얻습니다.\n",
      "2. **아웃**: 타자는 다음과 같은 방법으로 아웃될 수 있습니다:\n",
      "   - 타구를 잡히기(플라이 아웃)\n",
      "   - 그루드 공에 의해 베이스에서 아웃되기\n",
      "   - 투수가 3개의 스트라이크를 기록하게 하기\n",
      "3. **안타와 홈런**: 타자가 공을 잘 치고 1루 이상으로 안전하게 도착하면 안타, 공이 외야 넘어로 넘어갈 경우에는 홈런입니다.\n",
      "\n",
      "야구는 미국에서 특히 인기가 많으며, 메이저 리그(MLB)는 가장 유명한 프로 리그입니다. 세계 여러 나라에서도 각종 프로 리그가 존재하며, 야구는 올림픽 종목으로도 포함되어 있습니다.\n",
      "\n",
      "이 외에도 야구는 다양한 전략과 기술이 필요한 스포츠로, 팀워크와 개인의 기술이 모두 중요합니다. 한번 관심을 가지고 경기를 관람해 보시면 재미를 느끼실 수 있을 것입니다!\n"
     ]
    }
   ],
   "source": [
    "import openai\n",
    "\n",
    "chat_history = [\n",
    "    {'role':'system','content':'당신은 유능한 ai 상담원입니다. 사용자에게 공손하게 자세하게 답변해주세요'}\n",
    "\n",
    "]\n",
    "\n",
    "print('stat chat bot')\n",
    "while True:\n",
    "    user_input = input(\"사용자: \").strip()\n",
    "    if user_input.lower() in [\"종료\",\"exit\",\"quit\"]:\n",
    "        print(\"bot terminated\")\n",
    "        break\n",
    "\n",
    "    if user_input == \"\":\n",
    "        continue\n",
    "    chat_history.append({\"role\":\"user\",\"content\":user_input})\n",
    "    try:\n",
    "        response = client.chat.completions.create(model=\"gpt-4o-mini\",messages=chat_history)\n",
    "    except openai.error.openAIError as e:\n",
    "        print(\"error message:\",e)\n",
    "        continue\n",
    "    assistant_reply = response.choices[0].message.content.strip()\n",
    "    print(\"AI:\",assistant_reply)\n",
    "    chat_history.append({\"role\":\"assistant\",\"content\":assistant_reply})\n",
    "print(\"대화내용:\")\n",
    "for chat in chat_history:\n",
    "    print(f\"{chat['role']}:{chat['content']}\")\n",
    "\n",
    "# crew ai, 여러ai 에이전트가 내온 결론을 메니저 ai가 하모니있게 처리하는"
   ]
  }
 ],
 "metadata": {
  "kernelspec": {
   "display_name": "openai_api_part1",
   "language": "python",
   "name": "python3"
  },
  "language_info": {
   "codemirror_mode": {
    "name": "ipython",
    "version": 3
   },
   "file_extension": ".py",
   "mimetype": "text/x-python",
   "name": "python",
   "nbconvert_exporter": "python",
   "pygments_lexer": "ipython3",
   "version": "3.12.3"
  }
 },
 "nbformat": 4,
 "nbformat_minor": 5
}
