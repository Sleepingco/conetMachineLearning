{
 "cells": [
  {
   "cell_type": "code",
   "execution_count": null,
   "id": "c482d005",
   "metadata": {},
   "outputs": [],
   "source": [
    "import os\n",
    "from dotenv import load_dotenv\n",
    "from openai import OpenAI\n",
    "load_dotenv() #.env 파일의 환경변수를 불러옴\n",
    "api_key = os.getenv(\"OPENAI_API_KEY\") # 환경변수에서 키 가져오기\n",
    "client = OpenAI (api_key=api_key)"
   ]
  },
  {
   "cell_type": "code",
   "execution_count": null,
   "id": "d0256291",
   "metadata": {},
   "outputs": [],
   "source": [
    "file_obj = client.files.create(\n",
    "file=open(\"data.csv\", \"rb\"),\n",
    "purpose=\"assistants\"\n",
    ")\n",
    "file_id = file_obj.id\n",
    "print(\"Uploaded file ID:\", file_id)\n",
    "assistant_ci = client.beta.assistants.create(\n",
    "name=\"DataAnalyzer\",\n",
    "instructions=\"당신은 데이터 분석을 돕는 어시스턴트입니다. Python 코드를 작성하여 사용자의 요청을 해결하세요.\",\n",
    "model=\"gpt-4-1106-preview\", # GPT-4 모델 사용 (코드 인터프리터 활용에 적합)\n",
    "tools=[{\"type\": \"code_interpreter\"}] #코드 인터프리터 툴 활성화\n",
    ")\n"
   ]
  },
  {
   "cell_type": "code",
   "execution_count": null,
   "id": "45ac004e",
   "metadata": {},
   "outputs": [],
   "source": [
    "#3. 새로운 대화 스레드 시작 (코드 인터프리터 어시스턴트용)\n",
    "thread_ci = client.beta.threads.create()\n",
    "#4. 사용자 메시지 생성 (파일 첨부하여 질문)\n",
    "question = \"첨부된 파일의 모든 숫자를 더하면 얼마인가요?\"\n",
    "user_msg = client.beta.threads.messages.create(\n",
    "thread_id=thread_ci.id,\n",
    "role=\"user\",\n",
    "content=question,\n",
    "attachments=[{\n",
    "}]\n",
    ")\n",
    "\"file_id\": file_id,\n",
    "\"tools\":[{\"type\": \"code_interpreter\"}] #문자열 대신 객체 형태로 변경\n",
    "#5. 어시스턴트 실행 (코드 인터프리터 사용)\n",
    "run_ci = client.beta.threads.runs.create_and_pol1(\n",
    "thread_id=thread_ci.id,\n",
    "assistant_id=assistant_ci.id\n",
    ")\n",
    "#6. 완료 후 어시스턴트의 답변 확인\n",
    "messages_ci = client.beta.threads.messages.list(thread_id=thread_ci.id)\n",
    "assistant_reply = messages_ci.data[0] # 첫 번째 메시지가 어시스턴트의 최종 응답\n",
    "print(f\"Assistant: {assistant_reply.content[0].text.value}\")"
   ]
  }
 ],
 "metadata": {
  "language_info": {
   "name": "python"
  }
 },
 "nbformat": 4,
 "nbformat_minor": 5
}
