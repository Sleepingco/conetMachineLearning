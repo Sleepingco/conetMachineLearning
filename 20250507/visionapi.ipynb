{
 "cells": [
  {
   "cell_type": "code",
   "execution_count": 2,
   "id": "e6e66a25",
   "metadata": {},
   "outputs": [],
   "source": [
    "from openai import OpenAI\n",
    "client = OpenAI()"
   ]
  },
  {
   "cell_type": "code",
   "execution_count": 5,
   "id": "f2a86506",
   "metadata": {},
   "outputs": [
    {
     "name": "stdout",
     "output_type": "stream",
     "text": [
      "The image shows a wooden boardwalk path running through a lush green field with tall grass on both sides. The sky above is blue with some scattered clouds, and there are trees and shrubs in the background. The scene appears to be during the daytime with bright and natural lighting. It looks like a peaceful nature setting.\n"
     ]
    }
   ],
   "source": [
    "response = client.chat.completions.create(\n",
    "    model=\"gpt-4.1-mini\",\n",
    "    messages=[{\n",
    "        \"role\": \"user\",\n",
    "        \"content\": [\n",
    "            {\"type\": \"text\", \"text\": \"What's in this image?\"},\n",
    "            {\"type\": \"image_url\",\n",
    "            \"image_url\": {\n",
    "                    \"url\": \"https://upload.wikimedia.org/wikipedia/commons/thumb/d/dd/Gfp-wisconsin-madison-the-nature-boardwalk.jpg/2560px-Gfp-wisconsin-madison-the-nature-boardwalk.jpg\",\n",
    "                },\n",
    "            },\n",
    "        ],\n",
    "    }],\n",
    ")\n",
    "print(response.choices[0].message.content)"
   ]
  },
  {
   "cell_type": "code",
   "execution_count": 7,
   "id": "baddcc4f",
   "metadata": {},
   "outputs": [
    {
     "name": "stdout",
     "output_type": "stream",
     "text": [
      "The image shows a cozy café setting with warm lighting and a rustic wooden counter. In the foreground, there is a black cat with striking green eyes sitting on a stool. In front of the cat, on the stool, there is a small black cup of steaming coffee. In the background, various café elements such as a coffee machine, chalkboard menus, and blurred figures contribute to the lively and inviting atmosphere. The scene blends the charm of a coffee shop with the curiosity of a cat.\n"
     ]
    }
   ],
   "source": [
    "import base64\n",
    "from openai import OpenAI\n",
    "client = OpenAI()\n",
    "# Function to encode the image\n",
    "def encode_image(image_path):\n",
    "    with open(image_path, \"rb\") as image_file:\n",
    "        return base64.b64encode(image_file.read()).decode(\"utf-8\")\n",
    "# Path to your image\n",
    "image_path = \"img-aYqrjGqIF45kTWIZPABVNruV.png\"\n",
    "# Getting the Base64 string\n",
    "base64_image = encode_image(image_path)\n",
    "\n",
    "completion = client.chat.completions.create(\n",
    "    model=\"gpt-4.1\",\n",
    "    messages=[\n",
    "    {\n",
    "    \"role\": \"user\",\n",
    "    \"content\": [\n",
    "    { \"type\": \"text\", \"text\": \"what's in this image?\" },\n",
    "    {\n",
    "    \"type\": \"image_url\",\n",
    "    \"image_url\": {\n",
    "        \"url\": f\"data:image/jpeg;base64,{base64_image}\",\n",
    "                    },\n",
    "                },\n",
    "            ],\n",
    "        }\n",
    "    ],\n",
    ")\n",
    "print(completion.choices[0].message.content)"
   ]
  },
  {
   "cell_type": "code",
   "execution_count": 10,
   "id": "066e19f6",
   "metadata": {},
   "outputs": [
    {
     "name": "stdout",
     "output_type": "stream",
     "text": [
      "The images show two different types of leaves, each exhibiting signs of damage or disease.\n",
      "\n",
      "1. **First Image**: The leaves have small yellow-orange spots, which may indicate an infestation of aphids or a fungal disease. These spots could be a sign of stress to the plant.\n",
      "\n",
      "2. **Second Image**: This leaf displays yellowish patches, which could indicate issues like nutrient deficiency, fungal infections, or leaf spot diseases.\n",
      "\n",
      "**Unusual Fact**: The differing symptoms on the leaves highlight how various conditions can stress plants, leading to distinct visual cues. Monitoring these symptoms can help in diagnosing and managing plant health effectively.\n"
     ]
    }
   ],
   "source": [
    "from openai import OpenAI\n",
    "\n",
    "client = OpenAI()\n",
    "\n",
    "response = client.chat.completions.create(\n",
    "    model=\"gpt-4o-mini\",\n",
    "    messages=[\n",
    "        {\n",
    "            \"role\": \"user\",\n",
    "            \"content\": [\n",
    "                {\"type\": \"text\", \"text\": \"What are in these images? Is there any unusual fact?\"},\n",
    "                {\n",
    "                    \"type\": \"image_url\",\n",
    "                    \"image_url\": {\n",
    "                        \"url\": \"https://www.domin.co.kr/news/photo/202205/1380435_517885_304.jpg\"\n",
    "                    },\n",
    "                },\n",
    "                {\n",
    "                    \"type\": \"image_url\",\n",
    "                    \"image_url\": {\n",
    "                        \"url\": \"https://cdn.nongupin.co.kr/news/photo/202409/201918_61680_1019.png\"\n",
    "                    },\n",
    "                },\n",
    "            ],\n",
    "        }\n",
    "    ],\n",
    "    max_tokens=300,\n",
    ")\n",
    "\n",
    "print(response.choices[0].message.content)\n"
   ]
  },
  {
   "cell_type": "code",
   "execution_count": null,
   "id": "4aa0ee93",
   "metadata": {},
   "outputs": [
    {
     "name": "stdout",
     "output_type": "stream",
     "text": [
      "The letters extracted from the image are: **MNR-1237**.\n"
     ]
    }
   ],
   "source": [
    "# Path to your image\n",
    "image_path = \"car_num.jpg\"\n",
    "# Getting the Base64 string\n",
    "base64_image = encode_image(image_path)\n",
    "completion = client.chat.completions.create(\n",
    "    model=\"gpt-4o-mini\",\n",
    "    messages=[\n",
    "        {\n",
    "            \"role\": \"user\",\n",
    "            \"content\": [\n",
    "                { \"type\": \"text\", \"text\": \"extract letters in this image?\" },\n",
    "                {\n",
    "                    \"type\": \"image_url\",\n",
    "                    \"image_url\": {\n",
    "                        \"url\": f\"data:image/jpeg;base64,{base64_image}\",\n",
    "                    },\n",
    "                },\n",
    "            ],\n",
    "        }\n",
    "    ],\n",
    ")\n",
    "print(completion.choices[0].message.content)"
   ]
  }
 ],
 "metadata": {
  "kernelspec": {
   "display_name": "openai_api_part1",
   "language": "python",
   "name": "python3"
  },
  "language_info": {
   "codemirror_mode": {
    "name": "ipython",
    "version": 3
   },
   "file_extension": ".py",
   "mimetype": "text/x-python",
   "name": "python",
   "nbconvert_exporter": "python",
   "pygments_lexer": "ipython3",
   "version": "3.12.3"
  }
 },
 "nbformat": 4,
 "nbformat_minor": 5
}
