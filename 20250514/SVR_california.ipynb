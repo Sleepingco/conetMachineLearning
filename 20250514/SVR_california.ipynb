{
 "cells": [
  {
   "cell_type": "code",
   "execution_count": 1,
   "id": "9b4bf8c6",
   "metadata": {},
   "outputs": [],
   "source": [
    "from sklearn.datasets import fetch_california_housing\n",
    "from sklearn.model_selection import train_test_split\n",
    "from sklearn.preprocessing import StandardScaler\n",
    "from sklearn.svm import SVR\n",
    "from sklearn.metrics import mean_squared_error"
   ]
  },
  {
   "cell_type": "code",
   "execution_count": 4,
   "id": "5c03077a",
   "metadata": {},
   "outputs": [
    {
     "name": "stdout",
     "output_type": "stream",
     "text": [
      ".. _california_housing_dataset:\n",
      "\n",
      "California Housing dataset\n",
      "--------------------------\n",
      "\n",
      "**Data Set Characteristics:**\n",
      "\n",
      ":Number of Instances: 20640\n",
      "\n",
      ":Number of Attributes: 8 numeric, predictive attributes and the target\n",
      "\n",
      ":Attribute Information:\n",
      "    - MedInc        median income in block group\n",
      "    - HouseAge      median house age in block group\n",
      "    - AveRooms      average number of rooms per household\n",
      "    - AveBedrms     average number of bedrooms per household\n",
      "    - Population    block group population\n",
      "    - AveOccup      average number of household members\n",
      "    - Latitude      block group latitude\n",
      "    - Longitude     block group longitude\n",
      "\n",
      ":Missing Attribute Values: None\n",
      "\n",
      "This dataset was obtained from the StatLib repository.\n",
      "https://www.dcc.fc.up.pt/~ltorgo/Regression/cal_housing.html\n",
      "\n",
      "The target variable is the median house value for California districts,\n",
      "expressed in hundreds of thousands of dollars ($100,000).\n",
      "\n",
      "This dataset was derived from the 1990 U.S. census, using one row per census\n",
      "block group. A block group is the smallest geographical unit for which the U.S.\n",
      "Census Bureau publishes sample data (a block group typically has a population\n",
      "of 600 to 3,000 people).\n",
      "\n",
      "A household is a group of people residing within a home. Since the average\n",
      "number of rooms and bedrooms in this dataset are provided per household, these\n",
      "columns may take surprisingly large values for block groups with few households\n",
      "and many empty houses, such as vacation resorts.\n",
      "\n",
      "It can be downloaded/loaded using the\n",
      ":func:`sklearn.datasets.fetch_california_housing` function.\n",
      "\n",
      ".. rubric:: References\n",
      "\n",
      "- Pace, R. Kelley and Ronald Barry, Sparse Spatial Autoregressions,\n",
      "  Statistics and Probability Letters, 33 (1997) 291-297\n",
      "\n"
     ]
    }
   ],
   "source": [
    "california_housing = fetch_california_housing(as_frame=True)\n",
    "\n",
    "X = california_housing.data\n",
    "y = california_housing.target\n",
    "\n",
    "X_sample,_,y_sample,_=train_test_split(X,y,train_size=0.1,random_state=42)\n",
    "print(california_housing. DESCR)"
   ]
  },
  {
   "cell_type": "code",
   "execution_count": 5,
   "id": "648bc383",
   "metadata": {},
   "outputs": [
    {
     "name": "stdout",
     "output_type": "stream",
     "text": [
      "Kernel: linear, Mean Squared Error: 0.568789411178022\n",
      "Kernel: poly, Mean Squared Error: 0.6977925398305254\n",
      "Kernel: rbf, Mean Squared Error: 0.39777071146801446\n",
      "Kernel: sigmoid, Mean Squared Error: 238.2438276349612\n"
     ]
    }
   ],
   "source": [
    "# 데이터 스케일링\n",
    "from sklearn.preprocessing import StandardScaler\n",
    "from sklearn.svm import SVR\n",
    "from sklearn.metrics import mean_squared_error\n",
    "\n",
    "scaler = StandardScaler()\n",
    "X_scaled = scaler.fit_transform(X_sample)\n",
    "\n",
    "# 커널 함수 리스트\n",
    "kernels = ['linear', 'poly', 'rbf', 'sigmoid']\n",
    "\n",
    "# 커널 함수별로 학습, 예측, 평가 수행\n",
    "for kernel in kernels:\n",
    "    # SVR 모델 초기화\n",
    "    svr = SVR(kernel=kernel)\n",
    "    \n",
    "    # 모델 학습\n",
    "    svr.fit(X_scaled, y_sample)\n",
    "    \n",
    "    # 예측\n",
    "    y_pred = svr.predict(X_scaled)\n",
    "    \n",
    "    # 평가\n",
    "    mse = mean_squared_error(y_sample, y_pred)\n",
    "    print(f\"Kernel: {kernel}, Mean Squared Error: {mse}\")\n"
   ]
  },
  {
   "cell_type": "code",
   "execution_count": null,
   "id": "9a7a3cc0",
   "metadata": {},
   "outputs": [
    {
     "name": "stdout",
     "output_type": "stream",
     "text": [
      "Best Parameters: {'C': 10, 'gamma': 'auto', 'kernel': 'rbf'}\n",
      "Best CV MSE: 0.4142554057480858\n"
     ]
    }
   ],
   "source": [
    "from sklearn.model_selection import train_test_split, GridSearchCV\n",
    "from sklearn.svm import SVR\n",
    "from sklearn.metrics import mean_squared_error\n",
    "import numpy as np\n",
    "\n",
    "# SVR 모델 초기화\n",
    "svr = SVR()\n",
    "\n",
    "# 파라미터 그리드 설정\n",
    "param_grid = {\n",
    "    'kernel': ['linear', 'rbf', 'sigmoid'],\n",
    "    'C': np.logspace(-2, 3, 6),         # [0.01, 0.1, 1, 10, 100, 1000]\n",
    "    'gamma': np.logspace(-4, 1, 6),     # [0.0001, 0.001, 0.01, 0.1, 1, 10]\n",
    "}\n",
    "\n",
    "# GridSearchCV를 이용한 파라미터 튜닝\n",
    "grid_search = GridSearchCV(svr, param_grid, scoring='neg_mean_squared_error', cv=5)\n",
    "grid_search.fit(X_scaled, y_sample)\n",
    "\n",
    "# 최적 파라미터 및 성능 출력\n",
    "best_params = grid_search.best_params_\n",
    "best_score = -grid_search.best_score_  # 음수 MSE이므로 부호 반전\n",
    "print(f\"Best Parameters: {best_params}\")\n",
    "print(f\"Best CV MSE: {best_score}\")\n"
   ]
  },
  {
   "cell_type": "code",
   "execution_count": 8,
   "id": "4d7646a6",
   "metadata": {},
   "outputs": [
    {
     "name": "stdout",
     "output_type": "stream",
     "text": [
      "Best Parameters: {'C': 10, 'gamma': 'auto', 'kernel': 'rbf'}\n",
      "Best Model: SVR(C=10, gamma='auto')\n",
      "Mean Squared Error: 0.31606851185556106\n",
      "R² Score: 0.7667672501063015\n"
     ]
    }
   ],
   "source": [
    "# 최적의 파라미터와 최적의 모델 출력\n",
    "print(\"Best Parameters:\", grid_search.best_params_)\n",
    "print(\"Best Model:\", grid_search.best_estimator_)\n",
    "\n",
    "# 최적의 모델로 예측\n",
    "y_pred = grid_search.best_estimator_.predict(X_scaled)\n",
    "\n",
    "# 평가\n",
    "mse = mean_squared_error(y_sample, y_pred)\n",
    "print(\"Mean Squared Error:\", mse)\n",
    "from sklearn.metrics import r2_score\n",
    "\n",
    "r2 = r2_score(y_sample, y_pred)\n",
    "print(\"R² Score:\", r2)\n",
    "\n"
   ]
  }
 ],
 "metadata": {
  "kernelspec": {
   "display_name": "openai_api_part1",
   "language": "python",
   "name": "python3"
  },
  "language_info": {
   "codemirror_mode": {
    "name": "ipython",
    "version": 3
   },
   "file_extension": ".py",
   "mimetype": "text/x-python",
   "name": "python",
   "nbconvert_exporter": "python",
   "pygments_lexer": "ipython3",
   "version": "3.12.3"
  }
 },
 "nbformat": 4,
 "nbformat_minor": 5
}
